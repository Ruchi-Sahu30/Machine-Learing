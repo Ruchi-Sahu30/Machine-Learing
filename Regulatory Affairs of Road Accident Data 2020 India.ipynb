{
 "cells": [
  {
   "cell_type": "code",
   "execution_count": 52,
   "id": "f3e269ad-974a-4274-ac8d-f36bafd2d02d",
   "metadata": {},
   "outputs": [],
   "source": [
    "#Importing the Libraries\n",
    "import pandas as pd\n",
    "import numpy as np\n",
    "import seaborn as sns\n",
    "import matplotlib.pyplot as plt\n",
    "import plotly.express as px"
   ]
  },
  {
   "cell_type": "code",
   "execution_count": 53,
   "id": "38be8bc9-7d0e-4ff8-818f-3b6d50ccb25c",
   "metadata": {},
   "outputs": [
    {
     "data": {
      "text/html": [
       "<div>\n",
       "<style scoped>\n",
       "    .dataframe tbody tr th:only-of-type {\n",
       "        vertical-align: middle;\n",
       "    }\n",
       "\n",
       "    .dataframe tbody tr th {\n",
       "        vertical-align: top;\n",
       "    }\n",
       "\n",
       "    .dataframe thead th {\n",
       "        text-align: right;\n",
       "    }\n",
       "</style>\n",
       "<table border=\"1\" class=\"dataframe\">\n",
       "  <thead>\n",
       "    <tr style=\"text-align: right;\">\n",
       "      <th></th>\n",
       "      <th>Million Plus Cities</th>\n",
       "      <th>Cause category</th>\n",
       "      <th>Cause Subcategory</th>\n",
       "      <th>Outcome of Incident</th>\n",
       "      <th>Count</th>\n",
       "    </tr>\n",
       "  </thead>\n",
       "  <tbody>\n",
       "    <tr>\n",
       "      <th>0</th>\n",
       "      <td>Agra</td>\n",
       "      <td>Traffic Control</td>\n",
       "      <td>Flashing Signal/Blinker</td>\n",
       "      <td>Greviously Injured</td>\n",
       "      <td>0.0</td>\n",
       "    </tr>\n",
       "    <tr>\n",
       "      <th>1</th>\n",
       "      <td>Agra</td>\n",
       "      <td>Traffic Control</td>\n",
       "      <td>Flashing Signal/Blinker</td>\n",
       "      <td>Minor Injury</td>\n",
       "      <td>0.0</td>\n",
       "    </tr>\n",
       "    <tr>\n",
       "      <th>2</th>\n",
       "      <td>Agra</td>\n",
       "      <td>Traffic Control</td>\n",
       "      <td>Flashing Signal/Blinker</td>\n",
       "      <td>Persons Killed</td>\n",
       "      <td>0.0</td>\n",
       "    </tr>\n",
       "    <tr>\n",
       "      <th>3</th>\n",
       "      <td>Agra</td>\n",
       "      <td>Traffic Control</td>\n",
       "      <td>Flashing Signal/Blinker</td>\n",
       "      <td>Total Injured</td>\n",
       "      <td>0.0</td>\n",
       "    </tr>\n",
       "    <tr>\n",
       "      <th>4</th>\n",
       "      <td>Agra</td>\n",
       "      <td>Traffic Control</td>\n",
       "      <td>Flashing Signal/Blinker</td>\n",
       "      <td>Total number of Accidents</td>\n",
       "      <td>0.0</td>\n",
       "    </tr>\n",
       "    <tr>\n",
       "      <th>...</th>\n",
       "      <td>...</td>\n",
       "      <td>...</td>\n",
       "      <td>...</td>\n",
       "      <td>...</td>\n",
       "      <td>...</td>\n",
       "    </tr>\n",
       "    <tr>\n",
       "      <th>9545</th>\n",
       "      <td>Vizaq</td>\n",
       "      <td>Weather</td>\n",
       "      <td>Sunny/Clear</td>\n",
       "      <td>Greviously Injured</td>\n",
       "      <td>561.0</td>\n",
       "    </tr>\n",
       "    <tr>\n",
       "      <th>9546</th>\n",
       "      <td>Vizaq</td>\n",
       "      <td>Weather</td>\n",
       "      <td>Sunny/Clear</td>\n",
       "      <td>Minor Injury</td>\n",
       "      <td>252.0</td>\n",
       "    </tr>\n",
       "    <tr>\n",
       "      <th>9547</th>\n",
       "      <td>Vizaq</td>\n",
       "      <td>Weather</td>\n",
       "      <td>Sunny/Clear</td>\n",
       "      <td>Persons Killed</td>\n",
       "      <td>176.0</td>\n",
       "    </tr>\n",
       "    <tr>\n",
       "      <th>9548</th>\n",
       "      <td>Vizaq</td>\n",
       "      <td>Weather</td>\n",
       "      <td>Sunny/Clear</td>\n",
       "      <td>Total number of Accidents</td>\n",
       "      <td>1207.0</td>\n",
       "    </tr>\n",
       "    <tr>\n",
       "      <th>9549</th>\n",
       "      <td>Vizaq</td>\n",
       "      <td>Weather</td>\n",
       "      <td>Sunny/Clear</td>\n",
       "      <td>Total Injured</td>\n",
       "      <td>813.0</td>\n",
       "    </tr>\n",
       "  </tbody>\n",
       "</table>\n",
       "<p>9550 rows × 5 columns</p>\n",
       "</div>"
      ],
      "text/plain": [
       "     Million Plus Cities   Cause category        Cause Subcategory  \\\n",
       "0                   Agra  Traffic Control  Flashing Signal/Blinker   \n",
       "1                   Agra  Traffic Control  Flashing Signal/Blinker   \n",
       "2                   Agra  Traffic Control  Flashing Signal/Blinker   \n",
       "3                   Agra  Traffic Control  Flashing Signal/Blinker   \n",
       "4                   Agra  Traffic Control  Flashing Signal/Blinker   \n",
       "...                  ...              ...                      ...   \n",
       "9545               Vizaq          Weather              Sunny/Clear   \n",
       "9546               Vizaq          Weather              Sunny/Clear   \n",
       "9547               Vizaq          Weather              Sunny/Clear   \n",
       "9548               Vizaq          Weather              Sunny/Clear   \n",
       "9549               Vizaq          Weather              Sunny/Clear   \n",
       "\n",
       "            Outcome of Incident   Count  \n",
       "0            Greviously Injured     0.0  \n",
       "1                  Minor Injury     0.0  \n",
       "2                Persons Killed     0.0  \n",
       "3                 Total Injured     0.0  \n",
       "4     Total number of Accidents     0.0  \n",
       "...                         ...     ...  \n",
       "9545         Greviously Injured   561.0  \n",
       "9546               Minor Injury   252.0  \n",
       "9547             Persons Killed   176.0  \n",
       "9548  Total number of Accidents  1207.0  \n",
       "9549              Total Injured   813.0  \n",
       "\n",
       "[9550 rows x 5 columns]"
      ]
     },
     "execution_count": 53,
     "metadata": {},
     "output_type": "execute_result"
    }
   ],
   "source": [
    "#Load the Dataset\n",
    "df=pd.read_csv(\"Regulatory Affairs of Road Accident Data 2020 India (1).csv\")\n",
    "df"
   ]
  },
  {
   "cell_type": "code",
   "execution_count": 54,
   "id": "6d235746-6476-4f07-88bc-fadfe4a73cce",
   "metadata": {},
   "outputs": [
    {
     "data": {
      "text/plain": [
       "Million Plus Cities    0\n",
       "Cause category         0\n",
       "Cause Subcategory      0\n",
       "Outcome of Incident    0\n",
       "Count                  3\n",
       "dtype: int64"
      ]
     },
     "execution_count": 54,
     "metadata": {},
     "output_type": "execute_result"
    }
   ],
   "source": [
    "#Finding the null values\n",
    "df.isnull().sum()"
   ]
  },
  {
   "cell_type": "code",
   "execution_count": 55,
   "id": "03e282da-a2b2-48f3-a580-215c7ac9ed56",
   "metadata": {},
   "outputs": [
    {
     "name": "stdout",
     "output_type": "stream",
     "text": [
      "<class 'pandas.core.frame.DataFrame'>\n",
      "RangeIndex: 9550 entries, 0 to 9549\n",
      "Data columns (total 5 columns):\n",
      " #   Column               Non-Null Count  Dtype  \n",
      "---  ------               --------------  -----  \n",
      " 0   Million Plus Cities  9550 non-null   object \n",
      " 1   Cause category       9550 non-null   object \n",
      " 2   Cause Subcategory    9550 non-null   object \n",
      " 3   Outcome of Incident  9550 non-null   object \n",
      " 4   Count                9547 non-null   float64\n",
      "dtypes: float64(1), object(4)\n",
      "memory usage: 373.2+ KB\n"
     ]
    }
   ],
   "source": [
    "#Information about the dataset\n",
    "df.info()"
   ]
  },
  {
   "cell_type": "code",
   "execution_count": 56,
   "id": "bf48e5b3-9bc6-4b24-b1bf-b2a298ddb031",
   "metadata": {},
   "outputs": [
    {
     "data": {
      "text/html": [
       "<div>\n",
       "<style scoped>\n",
       "    .dataframe tbody tr th:only-of-type {\n",
       "        vertical-align: middle;\n",
       "    }\n",
       "\n",
       "    .dataframe tbody tr th {\n",
       "        vertical-align: top;\n",
       "    }\n",
       "\n",
       "    .dataframe thead th {\n",
       "        text-align: right;\n",
       "    }\n",
       "</style>\n",
       "<table border=\"1\" class=\"dataframe\">\n",
       "  <thead>\n",
       "    <tr style=\"text-align: right;\">\n",
       "      <th></th>\n",
       "      <th>Million Plus Cities</th>\n",
       "      <th>Cause category</th>\n",
       "      <th>Cause Subcategory</th>\n",
       "      <th>Outcome of Incident</th>\n",
       "      <th>Count</th>\n",
       "    </tr>\n",
       "  </thead>\n",
       "  <tbody>\n",
       "    <tr>\n",
       "      <th>0</th>\n",
       "      <td>Agra</td>\n",
       "      <td>Traffic Control</td>\n",
       "      <td>Flashing Signal/Blinker</td>\n",
       "      <td>Greviously Injured</td>\n",
       "      <td>0.0</td>\n",
       "    </tr>\n",
       "    <tr>\n",
       "      <th>1</th>\n",
       "      <td>Agra</td>\n",
       "      <td>Traffic Control</td>\n",
       "      <td>Flashing Signal/Blinker</td>\n",
       "      <td>Minor Injury</td>\n",
       "      <td>0.0</td>\n",
       "    </tr>\n",
       "    <tr>\n",
       "      <th>2</th>\n",
       "      <td>Agra</td>\n",
       "      <td>Traffic Control</td>\n",
       "      <td>Flashing Signal/Blinker</td>\n",
       "      <td>Persons Killed</td>\n",
       "      <td>0.0</td>\n",
       "    </tr>\n",
       "    <tr>\n",
       "      <th>3</th>\n",
       "      <td>Agra</td>\n",
       "      <td>Traffic Control</td>\n",
       "      <td>Flashing Signal/Blinker</td>\n",
       "      <td>Total Injured</td>\n",
       "      <td>0.0</td>\n",
       "    </tr>\n",
       "    <tr>\n",
       "      <th>4</th>\n",
       "      <td>Agra</td>\n",
       "      <td>Traffic Control</td>\n",
       "      <td>Flashing Signal/Blinker</td>\n",
       "      <td>Total number of Accidents</td>\n",
       "      <td>0.0</td>\n",
       "    </tr>\n",
       "  </tbody>\n",
       "</table>\n",
       "</div>"
      ],
      "text/plain": [
       "  Million Plus Cities   Cause category        Cause Subcategory  \\\n",
       "0                Agra  Traffic Control  Flashing Signal/Blinker   \n",
       "1                Agra  Traffic Control  Flashing Signal/Blinker   \n",
       "2                Agra  Traffic Control  Flashing Signal/Blinker   \n",
       "3                Agra  Traffic Control  Flashing Signal/Blinker   \n",
       "4                Agra  Traffic Control  Flashing Signal/Blinker   \n",
       "\n",
       "         Outcome of Incident  Count  \n",
       "0         Greviously Injured    0.0  \n",
       "1               Minor Injury    0.0  \n",
       "2             Persons Killed    0.0  \n",
       "3              Total Injured    0.0  \n",
       "4  Total number of Accidents    0.0  "
      ]
     },
     "execution_count": 56,
     "metadata": {},
     "output_type": "execute_result"
    }
   ],
   "source": [
    "#First 5 Rows\n",
    "df.head()"
   ]
  },
  {
   "cell_type": "code",
   "execution_count": 80,
   "id": "c221a1c7-cabb-4809-b4e7-b4b0026e62ca",
   "metadata": {},
   "outputs": [
    {
     "data": {
      "image/png": "[encoded data removed]",
      "text/plain": [
       "<Figure size 1200x600 with 1 Axes>"
      ]
     },
     "metadata": {},
     "output_type": "display_data"
    }
   ],
   "source": [
    "#Distribution of Accident by cities\n",
    "plt.figure(figsize=(12,6))\n",
    "sns.countplot(y='Million Plus Cities', data=df,\n",
    "order=df['Million Plus Cities'].value_counts().index)\n",
    "plt.title('Distribution of Road Accidents in Million-Plus cities')\n",
    "plt.xlabel('Number of Accidents')\n",
    "plt.ylabel('Cities')\n",
    "plt.show()"
   ]
  },
  {
   "cell_type": "code",
   "execution_count": 84,
   "id": "c52db2d7-898c-4f31-8819-b169a90b55c5",
   "metadata": {},
   "outputs": [
    {
     "data": {
      "image/png": "[encoded data removed]",
      "text/plain": [
       "<Figure size 1000x600 with 1 Axes>"
      ]
     },
     "metadata": {},
     "output_type": "display_data"
    }
   ],
   "source": [
    "#Analysis of Accident Cause\n",
    "#Distribution of cause category\n",
    "plt.figure(figsize=(10,6))\n",
    "sns.countplot(y='Cause category',data=df,order=df['Cause category'].value_counts().index)\n",
    "plt.title(\"Distribution of Accident\")\n",
    "plt.xlabel(\"Number of accident\")\n",
    "plt.ylabel(\"Cause category\")\n",
    "plt.tight_layout()\n",
    "plt.show()"
   ]
  },
  {
   "cell_type": "code",
   "execution_count": 86,
   "id": "3b1a61ac-edc4-4e17-bf50-566000fdeb65",
   "metadata": {},
   "outputs": [
    {
     "data": {
      "image/png": "[encoded data removed]",
      "text/plain": [
       "<Figure size 1000x800 with 1 Axes>"
      ]
     },
     "metadata": {},
     "output_type": "display_data"
    }
   ],
   "source": [
    "#Detail analysis of cause subcategory\n",
    "plt.figure(figsize=(10,8))\n",
    "sns.countplot(y='Cause Subcategory',data=df,order=df['Cause Subcategory'].value_counts().index)\n",
    "plt.title(\"Detail Analysis of Cause Subcategory\")\n",
    "plt.xlabel(\"Number of Accident\")\n",
    "plt.ylabel(\"Cause Subcategory\")\n",
    "plt.tight_layout()\n",
    "plt.show()"
   ]
  },
  {
   "cell_type": "code",
   "execution_count": 90,
   "id": "40bd661e-696c-45df-a119-a45c1105a180",
   "metadata": {},
   "outputs": [
    {
     "data": {
      "image/png": "[encoded data removed]",
      "text/plain": [
       "<Figure size 800x500 with 1 Axes>"
      ]
     },
     "metadata": {},
     "output_type": "display_data"
    }
   ],
   "source": [
    "#Outcomes of Incident\n",
    "plt.figure(figsize=(8,5))\n",
    "sns.countplot(x=\"Outcome of Incident\",data=df,order=df[\"Outcome of Incident\"].value_counts().index)\n",
    "plt.title(\"Outcome of Road Accident\")\n",
    "plt.xlabel(\"Outcomes\")\n",
    "plt.ylabel(\"Number of Incident\")\n",
    "plt.tight_layout()\n",
    "plt.show()\n"
   ]
  },
  {
   "cell_type": "code",
   "execution_count": 98,
   "id": "5db43dcc-55ba-4b94-b5a3-e7eee9c5f0fb",
   "metadata": {},
   "outputs": [
    {
     "data": {
      "image/png": "[encoded data removed]",
      "text/plain": [
       "<Figure size 1200x800 with 1 Axes>"
      ]
     },
     "metadata": {},
     "output_type": "display_data"
    }
   ],
   "source": [
    "#Accident Cause v/s Outcomes\n",
    "outcome_vs_cause=df.groupby([\"Cause category\",\"Outcome of Incident\"])[\"Count\"].sum().unstack(fill_value=0)\n",
    "outcome_vs_cause.plot(kind='bar', stacked=True, figsize=(12,8))\n",
    "plt.title(\"Accident Cause vs Outcomes\")\n",
    "plt.xlabel(\"Cause category\")\n",
    "plt.ylabel(\"Number of Accident\")\n",
    "plt.tight_layout()\n",
    "plt.show()\n"
   ]
  },
  {
   "cell_type": "code",
   "execution_count": 116,
   "id": "725fc26d-61d5-44d2-9b96-d7ce295d22cb",
   "metadata": {},
   "outputs": [
    {
     "data": {
      "application/vnd.plotly.v1+json": {
       "config": {
        "plotlyServerURL": "https://plot.ly"
       },
       "data": [
        {
         "alignmentgroup": "True",
         "hovertemplate": "Million Plus Cities=%{x}<br>Number of Accidents=%{y}<extra></extra>",
         "legendgroup": "",
         "marker": {
          "color": "#636efa",
          "pattern": {
           "shape": ""
          }
         },
         "name": "",
         "offsetgroup": "",
         "orientation": "v",
         "showlegend": false,
         "textposition": "auto",
         "type": "bar",
         "x": [
          "Agra",
          "Ahmedabad",
          "Allahabad(Prayagraj)",
          "Amritsar",
          "Asansol Durgapur",
          "Aurangabad",
          "Bengaluru",
          "Bhopal",
          "Chandigarh",
          "Chennai",
          "Coimbatore",
          "Delhi",
          "Dhanbad",
          "Faridabad",
          "Ghaziabad",
          "Gwalior",
          "Hyderabad",
          "Indore",
          "Jabalpur",
          "Jaipur",
          "Jamshedpur",
          "Jodhpur",
          "Kannur",
          "Kanpur",
          "Khozikode",
          "Kochi",
          "Kolkata",
          "Kollam",
          "Kota",
          "Lucknow",
          "Ludhiana",
          "Madurai",
          "Mallapuram",
          "Meerut",
          "Mumbai",
          "Nagpur",
          "Nashik",
          "Patna",
          "Pune",
          "Raipur",
          "Rajkot",
          "Srinagar",
          "Surat",
          "Thiruvanthapuram",
          "Thrissur",
          "Tiruchirapalli",
          "Vadodra",
          "Varanasi",
          "Vijaywada city",
          "Vizaq"
         ],
         "xaxis": "x",
         "y": [
          15483,
          17796,
          18066,
          1645,
          7164,
          6475,
          53535,
          35069,
          2900,
          78459,
          12574,
          72526,
          2560,
          8735,
          11319,
          27309,
          34720,
          50098,
          57715,
          32524,
          1997,
          4881,
          9669,
          19280,
          17696,
          24694,
          26715,
          24821,
          6460,
          14014,
          6230,
          9155,
          32294,
          11801,
          32106,
          14170,
          7537,
          5997,
          8018,
          27722,
          6984,
          4945,
          9249,
          21825,
          27540,
          7321,
          8292,
          7303,
          18823,
          25122
         ],
         "yaxis": "y"
        }
       ],
       "layout": {
        "autosize": true,
        "barmode": "relative",
        "legend": {
         "tracegroupgap": 0
        },
        "template": {
         "data": {
          "bar": [
           {
            "error_x": {
             "color": "#2a3f5f"
            },
            "error_y": {
             "color": "#2a3f5f"
            },
            "marker": {
             "line": {
              "color": "#E5ECF6",
              "width": 0.5
             },
             "pattern": {
              "fillmode": "overlay",
              "size": 10,
              "solidity": 0.2
             }
            },
            "type": "bar"
           }
          ],
          "barpolar": [
           {
            "marker": {
             "line": {
              "color": "#E5ECF6",
              "width": 0.5
             },
             "pattern": {
              "fillmode": "overlay",
              "size": 10,
              "solidity": 0.2
             }
            },
            "type": "barpolar"
           }
          ],
          "carpet": [
           {
            "aaxis": {
             "endlinecolor": "#2a3f5f",
             "gridcolor": "white",
             "linecolor": "white",
             "minorgridcolor": "white",
             "startlinecolor": "#2a3f5f"
            },
            "baxis": {
             "endlinecolor": "#2a3f5f",
             "gridcolor": "white",
             "linecolor": "white",
             "minorgridcolor": "white",
             "startlinecolor": "#2a3f5f"
            },
            "type": "carpet"
           }
          ],
          "choropleth": [
           {
            "colorbar": {
             "outlinewidth": 0,
             "ticks": ""
            },
            "type": "choropleth"
           }
          ],
          "contour": [
           {
            "colorbar": {
             "outlinewidth": 0,
             "ticks": ""
            },
            "colorscale": [
             [
              0,
              "#0d0887"
             ],
             [
              0.1111111111111111,
              "#46039f"
             ],
             [
              0.2222222222222222,
              "#7201a8"
             ],
             [
              0.3333333333333333,
              "#9c179e"
             ],
             [
              0.4444444444444444,
              "#bd3786"
             ],
             [
              0.5555555555555556,
              "#d8576b"
             ],
             [
              0.6666666666666666,
              "#ed7953"
             ],
             [
              0.7777777777777778,
              "#fb9f3a"
             ],
             [
              0.8888888888888888,
              "#fdca26"
             ],
             [
              1,
              "#f0f921"
             ]
            ],
            "type": "contour"
           }
          ],
          "contourcarpet": [
           {
            "colorbar": {
             "outlinewidth": 0,
             "ticks": ""
            },
            "type": "contourcarpet"
           }
          ],
          "heatmap": [
           {
            "colorbar": {
             "outlinewidth": 0,
             "ticks": ""
            },
            "colorscale": [
             [
              0,
              "#0d0887"
             ],
             [
              0.1111111111111111,
              "#46039f"
             ],
             [
              0.2222222222222222,
              "#7201a8"
             ],
             [
              0.3333333333333333,
              "#9c179e"
             ],
             [
              0.4444444444444444,
              "#bd3786"
             ],
             [
              0.5555555555555556,
              "#d8576b"
             ],
             [
              0.6666666666666666,
              "#ed7953"
             ],
             [
              0.7777777777777778,
              "#fb9f3a"
             ],
             [
              0.8888888888888888,
              "#fdca26"
             ],
             [
              1,
              "#f0f921"
             ]
            ],
            "type": "heatmap"
           }
          ],
          "heatmapgl": [
           {
            "colorbar": {
             "outlinewidth": 0,
             "ticks": ""
            },
            "colorscale": [
             [
              0,
              "#0d0887"
             ],
             [
              0.1111111111111111,
              "#46039f"
             ],
             [
              0.2222222222222222,
              "#7201a8"
             ],
             [
              0.3333333333333333,
              "#9c179e"
             ],
             [
              0.4444444444444444,
              "#bd3786"
             ],
             [
              0.5555555555555556,
              "#d8576b"
             ],
             [
              0.6666666666666666,
              "#ed7953"
             ],
             [
              0.7777777777777778,
              "#fb9f3a"
             ],
             [
              0.8888888888888888,
              "#fdca26"
             ],
             [
              1,
              "#f0f921"
             ]
            ],
            "type": "heatmapgl"
           }
          ],
          "histogram": [
           {
            "marker": {
             "pattern": {
              "fillmode": "overlay",
              "size": 10,
              "solidity": 0.2
             }
            },
            "type": "histogram"
           }
          ],
          "histogram2d": [
           {
            "colorbar": {
             "outlinewidth": 0,
             "ticks": ""
            },
            "colorscale": [
             [
              0,
              "#0d0887"
             ],
             [
              0.1111111111111111,
              "#46039f"
             ],
             [
              0.2222222222222222,
              "#7201a8"
             ],
             [
              0.3333333333333333,
              "#9c179e"
             ],
             [
              0.4444444444444444,
              "#bd3786"
             ],
             [
              0.5555555555555556,
              "#d8576b"
             ],
             [
              0.6666666666666666,
              "#ed7953"
             ],
             [
              0.7777777777777778,
              "#fb9f3a"
             ],
             [
              0.8888888888888888,
              "#fdca26"
             ],
             [
              1,
              "#f0f921"
             ]
            ],
            "type": "histogram2d"
           }
          ],
          "histogram2dcontour": [
           {
            "colorbar": {
             "outlinewidth": 0,
             "ticks": ""
            },
            "colorscale": [
             [
              0,
              "#0d0887"
             ],
             [
              0.1111111111111111,
              "#46039f"
             ],
             [
              0.2222222222222222,
              "#7201a8"
             ],
             [
              0.3333333333333333,
              "#9c179e"
             ],
             [
              0.4444444444444444,
              "#bd3786"
             ],
             [
              0.5555555555555556,
              "#d8576b"
             ],
             [
              0.6666666666666666,
              "#ed7953"
             ],
             [
              0.7777777777777778,
              "#fb9f3a"
             ],
             [
              0.8888888888888888,
              "#fdca26"
             ],
             [
              1,
              "#f0f921"
             ]
            ],
            "type": "histogram2dcontour"
           }
          ],
          "mesh3d": [
           {
            "colorbar": {
             "outlinewidth": 0,
             "ticks": ""
            },
            "type": "mesh3d"
           }
          ],
          "parcoords": [
           {
            "line": {
             "colorbar": {
              "outlinewidth": 0,
              "ticks": ""
             }
            },
            "type": "parcoords"
           }
          ],
          "pie": [
           {
            "automargin": true,
            "type": "pie"
           }
          ],
          "scatter": [
           {
            "fillpattern": {
             "fillmode": "overlay",
             "size": 10,
             "solidity": 0.2
            },
            "type": "scatter"
           }
          ],
          "scatter3d": [
           {
            "line": {
             "colorbar": {
              "outlinewidth": 0,
              "ticks": ""
             }
            },
            "marker": {
             "colorbar": {
              "outlinewidth": 0,
              "ticks": ""
             }
            },
            "type": "scatter3d"
           }
          ],
          "scattercarpet": [
           {
            "marker": {
             "colorbar": {
              "outlinewidth": 0,
              "ticks": ""
             }
            },
            "type": "scattercarpet"
           }
          ],
          "scattergeo": [
           {
            "marker": {
             "colorbar": {
              "outlinewidth": 0,
              "ticks": ""
             }
            },
            "type": "scattergeo"
           }
          ],
          "scattergl": [
           {
            "marker": {
             "colorbar": {
              "outlinewidth": 0,
              "ticks": ""
             }
            },
            "type": "scattergl"
           }
          ],
          "scattermapbox": [
           {
            "marker": {
             "colorbar": {
              "outlinewidth": 0,
              "ticks": ""
             }
            },
            "type": "scattermapbox"
           }
          ],
          "scatterpolar": [
           {
            "marker": {
             "colorbar": {
              "outlinewidth": 0,
              "ticks": ""
             }
            },
            "type": "scatterpolar"
           }
          ],
          "scatterpolargl": [
           {
            "marker": {
             "colorbar": {
              "outlinewidth": 0,
              "ticks": ""
             }
            },
            "type": "scatterpolargl"
           }
          ],
          "scatterternary": [
           {
            "marker": {
             "colorbar": {
              "outlinewidth": 0,
              "ticks": ""
             }
            },
            "type": "scatterternary"
           }
          ],
          "surface": [
           {
            "colorbar": {
             "outlinewidth": 0,
             "ticks": ""
            },
            "colorscale": [
             [
              0,
              "#0d0887"
             ],
             [
              0.1111111111111111,
              "#46039f"
             ],
             [
              0.2222222222222222,
              "#7201a8"
             ],
             [
              0.3333333333333333,
              "#9c179e"
             ],
             [
              0.4444444444444444,
              "#bd3786"
             ],
             [
              0.5555555555555556,
              "#d8576b"
             ],
             [
              0.6666666666666666,
              "#ed7953"
             ],
             [
              0.7777777777777778,
              "#fb9f3a"
             ],
             [
              0.8888888888888888,
              "#fdca26"
             ],
             [
              1,
              "#f0f921"
             ]
            ],
            "type": "surface"
           }
          ],
          "table": [
           {
            "cells": {
             "fill": {
              "color": "#EBF0F8"
             },
             "line": {
              "color": "white"
             }
            },
            "header": {
             "fill": {
              "color": "#C8D4E3"
             },
             "line": {
              "color": "white"
             }
            },
            "type": "table"
           }
          ]
         },
         "layout": {
          "annotationdefaults": {
           "arrowcolor": "#2a3f5f",
           "arrowhead": 0,
           "arrowwidth": 1
          },
          "autotypenumbers": "strict",
          "coloraxis": {
           "colorbar": {
            "outlinewidth": 0,
            "ticks": ""
           }
          },
          "colorscale": {
           "diverging": [
            [
             0,
             "#8e0152"
            ],
            [
             0.1,
             "#c51b7d"
            ],
            [
             0.2,
             "#de77ae"
            ],
            [
             0.3,
             "#f1b6da"
            ],
            [
             0.4,
             "#fde0ef"
            ],
            [
             0.5,
             "#f7f7f7"
            ],
            [
             0.6,
             "#e6f5d0"
            ],
            [
             0.7,
             "#b8e186"
            ],
            [
             0.8,
             "#7fbc41"
            ],
            [
             0.9,
             "#4d9221"
            ],
            [
             1,
             "#276419"
            ]
           ],
           "sequential": [
            [
             0,
             "#0d0887"
            ],
            [
             0.1111111111111111,
             "#46039f"
            ],
            [
             0.2222222222222222,
             "#7201a8"
            ],
            [
             0.3333333333333333,
             "#9c179e"
            ],
            [
             0.4444444444444444,
             "#bd3786"
            ],
            [
             0.5555555555555556,
             "#d8576b"
            ],
            [
             0.6666666666666666,
             "#ed7953"
            ],
            [
             0.7777777777777778,
             "#fb9f3a"
            ],
            [
             0.8888888888888888,
             "#fdca26"
            ],
            [
             1,
             "#f0f921"
            ]
           ],
           "sequentialminus": [
            [
             0,
             "#0d0887"
            ],
            [
             0.1111111111111111,
             "#46039f"
            ],
            [
             0.2222222222222222,
             "#7201a8"
            ],
            [
             0.3333333333333333,
             "#9c179e"
            ],
            [
             0.4444444444444444,
             "#bd3786"
            ],
            [
             0.5555555555555556,
             "#d8576b"
            ],
            [
             0.6666666666666666,
             "#ed7953"
            ],
            [
             0.7777777777777778,
             "#fb9f3a"
            ],
            [
             0.8888888888888888,
             "#fdca26"
            ],
            [
             1,
             "#f0f921"
            ]
           ]
          },
          "colorway": [
           "#636efa",
           "#EF553B",
           "#00cc96",
           "#ab63fa",
           "#FFA15A",
           "#19d3f3",
           "#FF6692",
           "#B6E880",
           "#FF97FF",
           "#FECB52"
          ],
          "font": {
           "color": "#2a3f5f"
          },
          "geo": {
           "bgcolor": "white",
           "lakecolor": "white",
           "landcolor": "#E5ECF6",
           "showlakes": true,
           "showland": true,
           "subunitcolor": "white"
          },
          "hoverlabel": {
           "align": "left"
          },
          "hovermode": "closest",
          "mapbox": {
           "style": "light"
          },
          "paper_bgcolor": "white",
          "plot_bgcolor": "#E5ECF6",
          "polar": {
           "angularaxis": {
            "gridcolor": "white",
            "linecolor": "white",
            "ticks": ""
           },
           "bgcolor": "#E5ECF6",
           "radialaxis": {
            "gridcolor": "white",
            "linecolor": "white",
            "ticks": ""
           }
          },
          "scene": {
           "xaxis": {
            "backgroundcolor": "#E5ECF6",
            "gridcolor": "white",
            "gridwidth": 2,
            "linecolor": "white",
            "showbackground": true,
            "ticks": "",
            "zerolinecolor": "white"
           },
           "yaxis": {
            "backgroundcolor": "#E5ECF6",
            "gridcolor": "white",
            "gridwidth": 2,
            "linecolor": "white",
            "showbackground": true,
            "ticks": "",
            "zerolinecolor": "white"
           },
           "zaxis": {
            "backgroundcolor": "#E5ECF6",
            "gridcolor": "white",
            "gridwidth": 2,
            "linecolor": "white",
            "showbackground": true,
            "ticks": "",
            "zerolinecolor": "white"
           }
          },
          "shapedefaults": {
           "line": {
            "color": "#2a3f5f"
           }
          },
          "ternary": {
           "aaxis": {
            "gridcolor": "white",
            "linecolor": "white",
            "ticks": ""
           },
           "baxis": {
            "gridcolor": "white",
            "linecolor": "white",
            "ticks": ""
           },
           "bgcolor": "#E5ECF6",
           "caxis": {
            "gridcolor": "white",
            "linecolor": "white",
            "ticks": ""
           }
          },
          "title": {
           "x": 0.05
          },
          "xaxis": {
           "automargin": true,
           "gridcolor": "white",
           "linecolor": "white",
           "ticks": "",
           "title": {
            "standoff": 15
           },
           "zerolinecolor": "white",
           "zerolinewidth": 2
          },
          "yaxis": {
           "automargin": true,
           "gridcolor": "white",
           "linecolor": "white",
           "ticks": "",
           "title": {
            "standoff": 15
           },
           "zerolinecolor": "white",
           "zerolinewidth": 2
          }
         }
        },
        "title": {
         "text": "Total Accidents by Million Plus City"
        },
        "xaxis": {
         "anchor": "y",
         "autorange": true,
         "domain": [
          0,
          1
         ],
         "range": [
          -0.5,
          49.5
         ],
         "title": {
          "text": "Million Plus Cities"
         },
         "type": "category"
        },
        "yaxis": {
         "anchor": "x",
         "autorange": true,
         "domain": [
          0,
          1
         ],
         "range": [
          0,
          82588.42105263157
         ],
         "title": {
          "text": "Number of Accidents"
         },
         "type": "linear"
        }
       }
      },
      "image/png": "[encoded data removed]",
      "text/html": [
       "<div>                            <div id=\"680197e2-1d0e-4047-871f-1e0b6003452e\" class=\"plotly-graph-div\" style=\"height:525px; width:100%;\"></div>            <script type=\"text/javascript\">                require([\"plotly\"], function(Plotly) {                    window.PLOTLYENV=window.PLOTLYENV || {};                                    if (document.getElementById(\"680197e2-1d0e-4047-871f-1e0b6003452e\")) {                    Plotly.newPlot(                        \"680197e2-1d0e-4047-871f-1e0b6003452e\",                        [{\"alignmentgroup\":\"True\",\"hovertemplate\":\"Million Plus Cities=%{x}\\u003cbr\\u003eNumber of Accidents=%{y}\\u003cextra\\u003e\\u003c\\u002fextra\\u003e\",\"legendgroup\":\"\",\"marker\":{\"color\":\"#636efa\",\"pattern\":{\"shape\":\"\"}},\"name\":\"\",\"offsetgroup\":\"\",\"orientation\":\"v\",\"showlegend\":false,\"textposition\":\"auto\",\"x\":[\"Agra\",\"Ahmedabad\",\"Allahabad(Prayagraj)\",\"Amritsar\",\"Asansol Durgapur\",\"Aurangabad\",\"Bengaluru\",\"Bhopal\",\"Chandigarh\",\"Chennai\",\"Coimbatore\",\"Delhi\",\"Dhanbad\",\"Faridabad\",\"Ghaziabad\",\"Gwalior\",\"Hyderabad\",\"Indore\",\"Jabalpur\",\"Jaipur\",\"Jamshedpur\",\"Jodhpur\",\"Kannur\",\"Kanpur\",\"Khozikode\",\"Kochi\",\"Kolkata\",\"Kollam\",\"Kota\",\"Lucknow\",\"Ludhiana\",\"Madurai\",\"Mallapuram\",\"Meerut\",\"Mumbai\",\"Nagpur\",\"Nashik\",\"Patna\",\"Pune\",\"Raipur\",\"Rajkot\",\"Srinagar\",\"Surat\",\"Thiruvanthapuram\",\"Thrissur\",\"Tiruchirapalli\",\"Vadodra\",\"Varanasi\",\"Vijaywada city\",\"Vizaq\"],\"xaxis\":\"x\",\"y\":[15483.0,17796.0,18066.0,1645.0,7164.0,6475.0,53535.0,35069.0,2900.0,78459.0,12574.0,72526.0,2560.0,8735.0,11319.0,27309.0,34720.0,50098.0,57715.0,32524.0,1997.0,4881.0,9669.0,19280.0,17696.0,24694.0,26715.0,24821.0,6460.0,14014.0,6230.0,9155.0,32294.0,11801.0,32106.0,14170.0,7537.0,5997.0,8018.0,27722.0,6984.0,4945.0,9249.0,21825.0,27540.0,7321.0,8292.0,7303.0,18823.0,25122.0],\"yaxis\":\"y\",\"type\":\"bar\"}],                        {\"template\":{\"data\":{\"histogram2dcontour\":[{\"type\":\"histogram2dcontour\",\"colorbar\":{\"outlinewidth\":0,\"ticks\":\"\"},\"colorscale\":[[0.0,\"#0d0887\"],[0.1111111111111111,\"#46039f\"],[0.2222222222222222,\"#7201a8\"],[0.3333333333333333,\"#9c179e\"],[0.4444444444444444,\"#bd3786\"],[0.5555555555555556,\"#d8576b\"],[0.6666666666666666,\"#ed7953\"],[0.7777777777777778,\"#fb9f3a\"],[0.8888888888888888,\"#fdca26\"],[1.0,\"#f0f921\"]]}],\"choropleth\":[{\"type\":\"choropleth\",\"colorbar\":{\"outlinewidth\":0,\"ticks\":\"\"}}],\"histogram2d\":[{\"type\":\"histogram2d\",\"colorbar\":{\"outlinewidth\":0,\"ticks\":\"\"},\"colorscale\":[[0.0,\"#0d0887\"],[0.1111111111111111,\"#46039f\"],[0.2222222222222222,\"#7201a8\"],[0.3333333333333333,\"#9c179e\"],[0.4444444444444444,\"#bd3786\"],[0.5555555555555556,\"#d8576b\"],[0.6666666666666666,\"#ed7953\"],[0.7777777777777778,\"#fb9f3a\"],[0.8888888888888888,\"#fdca26\"],[1.0,\"#f0f921\"]]}],\"heatmap\":[{\"type\":\"heatmap\",\"colorbar\":{\"outlinewidth\":0,\"ticks\":\"\"},\"colorscale\":[[0.0,\"#0d0887\"],[0.1111111111111111,\"#46039f\"],[0.2222222222222222,\"#7201a8\"],[0.3333333333333333,\"#9c179e\"],[0.4444444444444444,\"#bd3786\"],[0.5555555555555556,\"#d8576b\"],[0.6666666666666666,\"#ed7953\"],[0.7777777777777778,\"#fb9f3a\"],[0.8888888888888888,\"#fdca26\"],[1.0,\"#f0f921\"]]}],\"heatmapgl\":[{\"type\":\"heatmapgl\",\"colorbar\":{\"outlinewidth\":0,\"ticks\":\"\"},\"colorscale\":[[0.0,\"#0d0887\"],[0.1111111111111111,\"#46039f\"],[0.2222222222222222,\"#7201a8\"],[0.3333333333333333,\"#9c179e\"],[0.4444444444444444,\"#bd3786\"],[0.5555555555555556,\"#d8576b\"],[0.6666666666666666,\"#ed7953\"],[0.7777777777777778,\"#fb9f3a\"],[0.8888888888888888,\"#fdca26\"],[1.0,\"#f0f921\"]]}],\"contourcarpet\":[{\"type\":\"contourcarpet\",\"colorbar\":{\"outlinewidth\":0,\"ticks\":\"\"}}],\"contour\":[{\"type\":\"contour\",\"colorbar\":{\"outlinewidth\":0,\"ticks\":\"\"},\"colorscale\":[[0.0,\"#0d0887\"],[0.1111111111111111,\"#46039f\"],[0.2222222222222222,\"#7201a8\"],[0.3333333333333333,\"#9c179e\"],[0.4444444444444444,\"#bd3786\"],[0.5555555555555556,\"#d8576b\"],[0.6666666666666666,\"#ed7953\"],[0.7777777777777778,\"#fb9f3a\"],[0.8888888888888888,\"#fdca26\"],[1.0,\"#f0f921\"]]}],\"surface\":[{\"type\":\"surface\",\"colorbar\":{\"outlinewidth\":0,\"ticks\":\"\"},\"colorscale\":[[0.0,\"#0d0887\"],[0.1111111111111111,\"#46039f\"],[0.2222222222222222,\"#7201a8\"],[0.3333333333333333,\"#9c179e\"],[0.4444444444444444,\"#bd3786\"],[0.5555555555555556,\"#d8576b\"],[0.6666666666666666,\"#ed7953\"],[0.7777777777777778,\"#fb9f3a\"],[0.8888888888888888,\"#fdca26\"],[1.0,\"#f0f921\"]]}],\"mesh3d\":[{\"type\":\"mesh3d\",\"colorbar\":{\"outlinewidth\":0,\"ticks\":\"\"}}],\"scatter\":[{\"fillpattern\":{\"fillmode\":\"overlay\",\"size\":10,\"solidity\":0.2},\"type\":\"scatter\"}],\"parcoords\":[{\"type\":\"parcoords\",\"line\":{\"colorbar\":{\"outlinewidth\":0,\"ticks\":\"\"}}}],\"scatterpolargl\":[{\"type\":\"scatterpolargl\",\"marker\":{\"colorbar\":{\"outlinewidth\":0,\"ticks\":\"\"}}}],\"bar\":[{\"error_x\":{\"color\":\"#2a3f5f\"},\"error_y\":{\"color\":\"#2a3f5f\"},\"marker\":{\"line\":{\"color\":\"#E5ECF6\",\"width\":0.5},\"pattern\":{\"fillmode\":\"overlay\",\"size\":10,\"solidity\":0.2}},\"type\":\"bar\"}],\"scattergeo\":[{\"type\":\"scattergeo\",\"marker\":{\"colorbar\":{\"outlinewidth\":0,\"ticks\":\"\"}}}],\"scatterpolar\":[{\"type\":\"scatterpolar\",\"marker\":{\"colorbar\":{\"outlinewidth\":0,\"ticks\":\"\"}}}],\"histogram\":[{\"marker\":{\"pattern\":{\"fillmode\":\"overlay\",\"size\":10,\"solidity\":0.2}},\"type\":\"histogram\"}],\"scattergl\":[{\"type\":\"scattergl\",\"marker\":{\"colorbar\":{\"outlinewidth\":0,\"ticks\":\"\"}}}],\"scatter3d\":[{\"type\":\"scatter3d\",\"line\":{\"colorbar\":{\"outlinewidth\":0,\"ticks\":\"\"}},\"marker\":{\"colorbar\":{\"outlinewidth\":0,\"ticks\":\"\"}}}],\"scattermapbox\":[{\"type\":\"scattermapbox\",\"marker\":{\"colorbar\":{\"outlinewidth\":0,\"ticks\":\"\"}}}],\"scatterternary\":[{\"type\":\"scatterternary\",\"marker\":{\"colorbar\":{\"outlinewidth\":0,\"ticks\":\"\"}}}],\"scattercarpet\":[{\"type\":\"scattercarpet\",\"marker\":{\"colorbar\":{\"outlinewidth\":0,\"ticks\":\"\"}}}],\"carpet\":[{\"aaxis\":{\"endlinecolor\":\"#2a3f5f\",\"gridcolor\":\"white\",\"linecolor\":\"white\",\"minorgridcolor\":\"white\",\"startlinecolor\":\"#2a3f5f\"},\"baxis\":{\"endlinecolor\":\"#2a3f5f\",\"gridcolor\":\"white\",\"linecolor\":\"white\",\"minorgridcolor\":\"white\",\"startlinecolor\":\"#2a3f5f\"},\"type\":\"carpet\"}],\"table\":[{\"cells\":{\"fill\":{\"color\":\"#EBF0F8\"},\"line\":{\"color\":\"white\"}},\"header\":{\"fill\":{\"color\":\"#C8D4E3\"},\"line\":{\"color\":\"white\"}},\"type\":\"table\"}],\"barpolar\":[{\"marker\":{\"line\":{\"color\":\"#E5ECF6\",\"width\":0.5},\"pattern\":{\"fillmode\":\"overlay\",\"size\":10,\"solidity\":0.2}},\"type\":\"barpolar\"}],\"pie\":[{\"automargin\":true,\"type\":\"pie\"}]},\"layout\":{\"autotypenumbers\":\"strict\",\"colorway\":[\"#636efa\",\"#EF553B\",\"#00cc96\",\"#ab63fa\",\"#FFA15A\",\"#19d3f3\",\"#FF6692\",\"#B6E880\",\"#FF97FF\",\"#FECB52\"],\"font\":{\"color\":\"#2a3f5f\"},\"hovermode\":\"closest\",\"hoverlabel\":{\"align\":\"left\"},\"paper_bgcolor\":\"white\",\"plot_bgcolor\":\"#E5ECF6\",\"polar\":{\"bgcolor\":\"#E5ECF6\",\"angularaxis\":{\"gridcolor\":\"white\",\"linecolor\":\"white\",\"ticks\":\"\"},\"radialaxis\":{\"gridcolor\":\"white\",\"linecolor\":\"white\",\"ticks\":\"\"}},\"ternary\":{\"bgcolor\":\"#E5ECF6\",\"aaxis\":{\"gridcolor\":\"white\",\"linecolor\":\"white\",\"ticks\":\"\"},\"baxis\":{\"gridcolor\":\"white\",\"linecolor\":\"white\",\"ticks\":\"\"},\"caxis\":{\"gridcolor\":\"white\",\"linecolor\":\"white\",\"ticks\":\"\"}},\"coloraxis\":{\"colorbar\":{\"outlinewidth\":0,\"ticks\":\"\"}},\"colorscale\":{\"sequential\":[[0.0,\"#0d0887\"],[0.1111111111111111,\"#46039f\"],[0.2222222222222222,\"#7201a8\"],[0.3333333333333333,\"#9c179e\"],[0.4444444444444444,\"#bd3786\"],[0.5555555555555556,\"#d8576b\"],[0.6666666666666666,\"#ed7953\"],[0.7777777777777778,\"#fb9f3a\"],[0.8888888888888888,\"#fdca26\"],[1.0,\"#f0f921\"]],\"sequentialminus\":[[0.0,\"#0d0887\"],[0.1111111111111111,\"#46039f\"],[0.2222222222222222,\"#7201a8\"],[0.3333333333333333,\"#9c179e\"],[0.4444444444444444,\"#bd3786\"],[0.5555555555555556,\"#d8576b\"],[0.6666666666666666,\"#ed7953\"],[0.7777777777777778,\"#fb9f3a\"],[0.8888888888888888,\"#fdca26\"],[1.0,\"#f0f921\"]],\"diverging\":[[0,\"#8e0152\"],[0.1,\"#c51b7d\"],[0.2,\"#de77ae\"],[0.3,\"#f1b6da\"],[0.4,\"#fde0ef\"],[0.5,\"#f7f7f7\"],[0.6,\"#e6f5d0\"],[0.7,\"#b8e186\"],[0.8,\"#7fbc41\"],[0.9,\"#4d9221\"],[1,\"#276419\"]]},\"xaxis\":{\"gridcolor\":\"white\",\"linecolor\":\"white\",\"ticks\":\"\",\"title\":{\"standoff\":15},\"zerolinecolor\":\"white\",\"automargin\":true,\"zerolinewidth\":2},\"yaxis\":{\"gridcolor\":\"white\",\"linecolor\":\"white\",\"ticks\":\"\",\"title\":{\"standoff\":15},\"zerolinecolor\":\"white\",\"automargin\":true,\"zerolinewidth\":2},\"scene\":{\"xaxis\":{\"backgroundcolor\":\"#E5ECF6\",\"gridcolor\":\"white\",\"linecolor\":\"white\",\"showbackground\":true,\"ticks\":\"\",\"zerolinecolor\":\"white\",\"gridwidth\":2},\"yaxis\":{\"backgroundcolor\":\"#E5ECF6\",\"gridcolor\":\"white\",\"linecolor\":\"white\",\"showbackground\":true,\"ticks\":\"\",\"zerolinecolor\":\"white\",\"gridwidth\":2},\"zaxis\":{\"backgroundcolor\":\"#E5ECF6\",\"gridcolor\":\"white\",\"linecolor\":\"white\",\"showbackground\":true,\"ticks\":\"\",\"zerolinecolor\":\"white\",\"gridwidth\":2}},\"shapedefaults\":{\"line\":{\"color\":\"#2a3f5f\"}},\"annotationdefaults\":{\"arrowcolor\":\"#2a3f5f\",\"arrowhead\":0,\"arrowwidth\":1},\"geo\":{\"bgcolor\":\"white\",\"landcolor\":\"#E5ECF6\",\"subunitcolor\":\"white\",\"showland\":true,\"showlakes\":true,\"lakecolor\":\"white\"},\"title\":{\"x\":0.05},\"mapbox\":{\"style\":\"light\"}}},\"xaxis\":{\"anchor\":\"y\",\"domain\":[0.0,1.0],\"title\":{\"text\":\"Million Plus Cities\"}},\"yaxis\":{\"anchor\":\"x\",\"domain\":[0.0,1.0],\"title\":{\"text\":\"Number of Accidents\"}},\"legend\":{\"tracegroupgap\":0},\"title\":{\"text\":\"Total Accidents by Million Plus City\"},\"barmode\":\"relative\"},                        {\"responsive\": true}                    ).then(function(){\n",
       "                            \n",
       "var gd = document.getElementById('680197e2-1d0e-4047-871f-1e0b6003452e');\n",
       "var x = new MutationObserver(function (mutations, observer) {{\n",
       "        var display = window.getComputedStyle(gd).display;\n",
       "        if (!display || display === 'none') {{\n",
       "            console.log([gd, 'removed!']);\n",
       "            Plotly.purge(gd);\n",
       "            observer.disconnect();\n",
       "        }}\n",
       "}});\n",
       "\n",
       "// Listen for the removal of the full notebook cells\n",
       "var notebookContainer = gd.closest('#notebook-container');\n",
       "if (notebookContainer) {{\n",
       "    x.observe(notebookContainer, {childList: true});\n",
       "}}\n",
       "\n",
       "// Listen for the clearing of the current output cell\n",
       "var outputEl = gd.closest('.output');\n",
       "if (outputEl) {{\n",
       "    x.observe(outputEl, {childList: true});\n",
       "}}\n",
       "\n",
       "                        })                };                });            </script>        </div>"
      ]
     },
     "metadata": {},
     "output_type": "display_data"
    }
   ],
   "source": [
    "#Accident by Million Plus Cities\n",
    "city_accidents = df.groupby('Million Plus Cities')['Count'].sum().reset_index()\n",
    "\n",
    "fig = px.bar(city_accidents, x='Million Plus Cities', y='Count',\n",
    "             title='Total Accidents by Million Plus City',\n",
    "             labels={'Count': 'Number of Accidents'})\n",
    "fig.show()"
   ]
  },
  {
   "cell_type": "code",
   "execution_count": 120,
   "id": "d62ee9f3-685a-4d5c-accf-f5a20be86f1d",
   "metadata": {},
   "outputs": [
    {
     "data": {
      "application/vnd.plotly.v1+json": {
       "config": {
        "plotlyServerURL": "https://plot.ly"
       },
       "data": [
        {
         "branchvalues": "total",
         "domain": {
          "x": [
           0,
           1
          ],
          "y": [
           0,
           1
          ]
         },
         "hovertemplate": "labels=%{label}<br>Count=%{value}<br>parent=%{parent}<br>id=%{id}<extra></extra>",
         "ids": [
          "Impacting Vehicle/Object/Auto Rickshaws/greviously injured",
          "Impacting Vehicle/Object/Bicycles/greviously injured",
          "Road Features/Bridge/greviously injured",
          "Impacting Vehicle/Object/Buses/greviously injured",
          "Impacting Vehicle/Object/Cars, Taxis, Vans and LMV/greviously injured",
          "Road Features/Culvert/greviously injured",
          "Road Features/Curved Road/greviously injured",
          "Traffic Violation/Driving on Wrong side/greviously injured",
          "Traffic Violation/Drunken Driving/ Consumption of alcohol and drug/greviously injured",
          "Traffic Control/Flashing Signal/Blinker/greviously injured",
          "Weather/Foggy and Misty/greviously injured",
          "Junction/Four arm Junction/greviously injured",
          "Weather/Hail/Sleet/greviously injured",
          "Traffic Violation/Jumping Red Light/greviously injured",
          "Road Features/Ongoing Road Works/Under Construction/greviously injured",
          "Impacting Vehicle/Object/Other Non/greviously injured",
          "Impacting Vehicle/Object/Others/greviously injured",
          "Junction/Others/greviously injured",
          "Road Features/Others/greviously injured",
          "Traffic Control/Others/greviously injured",
          "Traffic Violation/Others/greviously injured",
          "Weather/Others/greviously injured",
          "Traffic Violation/Over/greviously injured",
          "Impacting Vehicle/Object/Pedestrian/greviously injured",
          "Traffic Control/Police Controlled/greviously injured",
          "Road Features/Pot Holes/greviously injured",
          "Weather/Rainy/greviously injured",
          "Junction/Round about Junction/greviously injured",
          "Junction/Staggered Junction/greviously injured",
          "Road Features/Steep Grade/greviously injured",
          "Traffic Control/Stop Sign/greviously injured",
          "Road Features/Straight Road/greviously injured",
          "Weather/Sunny/Clear/greviously injured",
          "Junction/T/greviously injured",
          "Traffic Control/Traffic Light Signal/greviously injured",
          "Impacting Vehicle/Object/Trucks/Lorries/greviously injured",
          "Impacting Vehicle/Object/Two Wheelers/greviously injured",
          "Traffic Control/Uncontrolled/greviously injured",
          "Traffic Violation/Use of Mobile Phone/greviously injured",
          "Junction/Y/greviously injured",
          "Impacting Vehicle/Object/Auto Rickshaws/minor injury",
          "Impacting Vehicle/Object/Bicycles/minor injury",
          "Road Features/Bridge/minor injury",
          "Impacting Vehicle/Object/Buses/minor injury",
          "Impacting Vehicle/Object/Cars, Taxis, Vans and LMV/minor injury",
          "Road Features/Culvert/minor injury",
          "Road Features/Curved Road/minor injury",
          "Traffic Violation/Driving on Wrong side/minor injury",
          "Traffic Violation/Drunken Driving/ Consumption of alcohol and drug/minor injury",
          "Traffic Control/Flashing Signal/Blinker/minor injury",
          "Weather/Foggy and Misty/minor injury",
          "Junction/Four arm Junction/minor injury",
          "Weather/Hail/Sleet/minor injury",
          "Traffic Violation/Jumping Red Light/minor injury",
          "Road Features/Ongoing Road Works/Under Construction/minor injury",
          "Impacting Vehicle/Object/Other Non/minor injury",
          "Impacting Vehicle/Object/Others/minor injury",
          "Junction/Others/minor injury",
          "Road Features/Others/minor injury",
          "Traffic Control/Others/minor injury",
          "Traffic Violation/Others/minor injury",
          "Weather/Others/minor injury",
          "Traffic Violation/Over/minor injury",
          "Impacting Vehicle/Object/Pedestrian/minor injury",
          "Traffic Control/Police Controlled/minor injury",
          "Road Features/Pot Holes/minor injury",
          "Weather/Rainy/minor injury",
          "Junction/Round about Junction/minor injury",
          "Junction/Staggered Junction/minor injury",
          "Road Features/Steep Grade/minor injury",
          "Traffic Control/Stop Sign/minor injury",
          "Road Features/Straight Road/minor injury",
          "Weather/Sunny/Clear/minor injury",
          "Junction/T/minor injury",
          "Traffic Control/Traffic Light Signal/minor injury",
          "Impacting Vehicle/Object/Trucks/Lorries/minor injury",
          "Impacting Vehicle/Object/Two Wheelers/minor injury",
          "Traffic Control/Uncontrolled/minor injury",
          "Traffic Violation/Use of Mobile Phone/minor injury",
          "Junction/Y/minor injury",
          "Impacting Vehicle/Object/Auto Rickshaws/persons killed",
          "Impacting Vehicle/Object/Bicycles/persons killed",
          "Road Features/Bridge/persons killed",
          "Impacting Vehicle/Object/Buses/persons killed",
          "Impacting Vehicle/Object/Cars, Taxis, Vans and LMV/persons killed",
          "Road Features/Culvert/persons killed",
          "Road Features/Curved Road/persons killed",
          "Traffic Violation/Driving on Wrong side/persons killed",
          "Traffic Violation/Drunken Driving/ Consumption of alcohol and drug/persons killed",
          "Traffic Control/Flashing Signal/Blinker/persons killed",
          "Weather/Foggy and Misty/persons killed",
          "Junction/Four arm Junction/persons killed",
          "Weather/Hail/Sleet/persons killed",
          "Traffic Violation/Jumping Red Light/persons killed",
          "Road Features/Ongoing Road Works/Under Construction/persons killed",
          "Impacting Vehicle/Object/Other Non/persons killed",
          "Impacting Vehicle/Object/Others/persons killed",
          "Junction/Others/persons killed",
          "Road Features/Others/persons killed",
          "Traffic Control/Others/persons killed",
          "Traffic Violation/Others/persons killed",
          "Weather/Others/persons killed",
          "Traffic Violation/Over/persons killed",
          "Impacting Vehicle/Object/Pedestrian/persons killed",
          "Traffic Control/Police Controlled/persons killed",
          "Road Features/Pot Holes/persons killed",
          "Weather/Rainy/persons killed",
          "Junction/Round about Junction/persons killed",
          "Junction/Staggered Junction/persons killed",
          "Road Features/Steep Grade/persons killed",
          "Traffic Control/Stop Sign/persons killed",
          "Road Features/Straight Road/persons killed",
          "Weather/Sunny/Clear/persons killed",
          "Junction/T/persons killed",
          "Traffic Control/Traffic Light Signal/persons killed",
          "Impacting Vehicle/Object/Trucks/Lorries/persons killed",
          "Impacting Vehicle/Object/Two Wheelers/persons killed",
          "Traffic Control/Uncontrolled/persons killed",
          "Traffic Violation/Use of Mobile Phone/persons killed",
          "Junction/Y/persons killed",
          "Road Features/Bridge/total injured",
          "Road Features/Culvert/total injured",
          "Road Features/Curved Road/total injured",
          "Traffic Violation/Driving on Wrong side/total injured",
          "Traffic Violation/Drunken Driving/ Consumption of alcohol and drug/total injured",
          "Traffic Control/Flashing Signal/Blinker/total injured",
          "Weather/Foggy and Misty/total injured",
          "Junction/Four arm Junction/total injured",
          "Weather/Hail/Sleet/total injured",
          "Traffic Violation/Jumping Red Light/total injured",
          "Road Features/Ongoing Road Works/Under Construction/total injured",
          "Junction/Others/total injured",
          "Road Features/Others/total injured",
          "Traffic Control/Others/total injured",
          "Traffic Violation/Others/total injured",
          "Weather/Others/total injured",
          "Traffic Violation/Over/total injured",
          "Traffic Control/Police Controlled/total injured",
          "Road Features/Pot Holes/total injured",
          "Weather/Rainy/total injured",
          "Junction/Round about Junction/total injured",
          "Junction/Staggered Junction/total injured",
          "Road Features/Steep Grade/total injured",
          "Traffic Control/Stop Sign/total injured",
          "Road Features/Straight Road/total injured",
          "Weather/Sunny/Clear/total injured",
          "Junction/T/total injured",
          "Traffic Control/Traffic Light Signal/total injured",
          "Traffic Control/Uncontrolled/total injured",
          "Traffic Violation/Use of Mobile Phone/total injured",
          "Junction/Y/total injured",
          "Impacting Vehicle/Object/Auto Rickshaws/total number of accidents",
          "Impacting Vehicle/Object/Bicycles/total number of accidents",
          "Road Features/Bridge/total number of accidents",
          "Impacting Vehicle/Object/Buses/total number of accidents",
          "Impacting Vehicle/Object/Cars, Taxis, Vans and LMV/total number of accidents",
          "Road Features/Culvert/total number of accidents",
          "Road Features/Curved Road/total number of accidents",
          "Traffic Violation/Driving on Wrong side/total number of accidents",
          "Traffic Violation/Drunken Driving/ Consumption of alcohol and drug/total number of accidents",
          "Traffic Control/Flashing Signal/Blinker/total number of accidents",
          "Weather/Foggy and Misty/total number of accidents",
          "Junction/Four arm Junction/total number of accidents",
          "Weather/Hail/Sleet/total number of accidents",
          "Traffic Violation/Jumping Red Light/total number of accidents",
          "Road Features/Ongoing Road Works/Under Construction/total number of accidents",
          "Impacting Vehicle/Object/Other Non/total number of accidents",
          "Impacting Vehicle/Object/Others/total number of accidents",
          "Junction/Others/total number of accidents",
          "Road Features/Others/total number of accidents",
          "Traffic Control/Others/total number of accidents",
          "Traffic Violation/Others/total number of accidents",
          "Weather/Others/total number of accidents",
          "Traffic Violation/Over/total number of accidents",
          "Impacting Vehicle/Object/Pedestrian/total number of accidents",
          "Traffic Control/Police Controlled/total number of accidents",
          "Road Features/Pot Holes/total number of accidents",
          "Weather/Rainy/total number of accidents",
          "Junction/Round about Junction/total number of accidents",
          "Junction/Staggered Junction/total number of accidents",
          "Road Features/Steep Grade/total number of accidents",
          "Traffic Control/Stop Sign/total number of accidents",
          "Road Features/Straight Road/total number of accidents",
          "Weather/Sunny/Clear/total number of accidents",
          "Junction/T/total number of accidents",
          "Traffic Control/Traffic Light Signal/total number of accidents",
          "Impacting Vehicle/Object/Trucks/Lorries/total number of accidents",
          "Impacting Vehicle/Object/Two Wheelers/total number of accidents",
          "Traffic Control/Uncontrolled/total number of accidents",
          "Traffic Violation/Use of Mobile Phone/total number of accidents",
          "Junction/Y/total number of accidents",
          "Impacting Vehicle/Object/Auto Rickshaws",
          "Impacting Vehicle/Object/Bicycles",
          "Road Features/Bridge",
          "Impacting Vehicle/Object/Buses",
          "Impacting Vehicle/Object/Cars, Taxis, Vans and LMV",
          "Road Features/Culvert",
          "Road Features/Curved Road",
          "Traffic Violation/Driving on Wrong side",
          "Traffic Violation/Drunken Driving/ Consumption of alcohol and drug",
          "Traffic Control/Flashing Signal/Blinker",
          "Weather/Foggy and Misty",
          "Junction/Four arm Junction",
          "Weather/Hail/Sleet",
          "Traffic Violation/Jumping Red Light",
          "Road Features/Ongoing Road Works/Under Construction",
          "Impacting Vehicle/Object/Other Non",
          "Impacting Vehicle/Object/Others",
          "Junction/Others",
          "Road Features/Others",
          "Traffic Control/Others",
          "Traffic Violation/Others",
          "Weather/Others",
          "Traffic Violation/Over",
          "Impacting Vehicle/Object/Pedestrian",
          "Traffic Control/Police Controlled",
          "Road Features/Pot Holes",
          "Weather/Rainy",
          "Junction/Round about Junction",
          "Junction/Staggered Junction",
          "Road Features/Steep Grade",
          "Traffic Control/Stop Sign",
          "Road Features/Straight Road",
          "Weather/Sunny/Clear",
          "Junction/T",
          "Traffic Control/Traffic Light Signal",
          "Impacting Vehicle/Object/Trucks/Lorries",
          "Impacting Vehicle/Object/Two Wheelers",
          "Traffic Control/Uncontrolled",
          "Traffic Violation/Use of Mobile Phone",
          "Junction/Y",
          "Impacting Vehicle/Object",
          "Junction",
          "Road Features",
          "Traffic Control",
          "Traffic Violation",
          "Weather"
         ],
         "labels": [
          "greviously injured",
          "greviously injured",
          "greviously injured",
          "greviously injured",
          "greviously injured",
          "greviously injured",
          "greviously injured",
          "greviously injured",
          "greviously injured",
          "greviously injured",
          "greviously injured",
          "greviously injured",
          "greviously injured",
          "greviously injured",
          "greviously injured",
          "greviously injured",
          "greviously injured",
          "greviously injured",
          "greviously injured",
          "greviously injured",
          "greviously injured",
          "greviously injured",
          "greviously injured",
          "greviously injured",
          "greviously injured",
          "greviously injured",
          "greviously injured",
          "greviously injured",
          "greviously injured",
          "greviously injured",
          "greviously injured",
          "greviously injured",
          "greviously injured",
          "greviously injured",
          "greviously injured",
          "greviously injured",
          "greviously injured",
          "greviously injured",
          "greviously injured",
          "greviously injured",
          "minor injury",
          "minor injury",
          "minor injury",
          "minor injury",
          "minor injury",
          "minor injury",
          "minor injury",
          "minor injury",
          "minor injury",
          "minor injury",
          "minor injury",
          "minor injury",
          "minor injury",
          "minor injury",
          "minor injury",
          "minor injury",
          "minor injury",
          "minor injury",
          "minor injury",
          "minor injury",
          "minor injury",
          "minor injury",
          "minor injury",
          "minor injury",
          "minor injury",
          "minor injury",
          "minor injury",
          "minor injury",
          "minor injury",
          "minor injury",
          "minor injury",
          "minor injury",
          "minor injury",
          "minor injury",
          "minor injury",
          "minor injury",
          "minor injury",
          "minor injury",
          "minor injury",
          "minor injury",
          "persons killed",
          "persons killed",
          "persons killed",
          "persons killed",
          "persons killed",
          "persons killed",
          "persons killed",
          "persons killed",
          "persons killed",
          "persons killed",
          "persons killed",
          "persons killed",
          "persons killed",
          "persons killed",
          "persons killed",
          "persons killed",
          "persons killed",
          "persons killed",
          "persons killed",
          "persons killed",
          "persons killed",
          "persons killed",
          "persons killed",
          "persons killed",
          "persons killed",
          "persons killed",
          "persons killed",
          "persons killed",
          "persons killed",
          "persons killed",
          "persons killed",
          "persons killed",
          "persons killed",
          "persons killed",
          "persons killed",
          "persons killed",
          "persons killed",
          "persons killed",
          "persons killed",
          "persons killed",
          "total injured",
          "total injured",
          "total injured",
          "total injured",
          "total injured",
          "total injured",
          "total injured",
          "total injured",
          "total injured",
          "total injured",
          "total injured",
          "total injured",
          "total injured",
          "total injured",
          "total injured",
          "total injured",
          "total injured",
          "total injured",
          "total injured",
          "total injured",
          "total injured",
          "total injured",
          "total injured",
          "total injured",
          "total injured",
          "total injured",
          "total injured",
          "total injured",
          "total injured",
          "total injured",
          "total injured",
          "total number of accidents",
          "total number of accidents",
          "total number of accidents",
          "total number of accidents",
          "total number of accidents",
          "total number of accidents",
          "total number of accidents",
          "total number of accidents",
          "total number of accidents",
          "total number of accidents",
          "total number of accidents",
          "total number of accidents",
          "total number of accidents",
          "total number of accidents",
          "total number of accidents",
          "total number of accidents",
          "total number of accidents",
          "total number of accidents",
          "total number of accidents",
          "total number of accidents",
          "total number of accidents",
          "total number of accidents",
          "total number of accidents",
          "total number of accidents",
          "total number of accidents",
          "total number of accidents",
          "total number of accidents",
          "total number of accidents",
          "total number of accidents",
          "total number of accidents",
          "total number of accidents",
          "total number of accidents",
          "total number of accidents",
          "total number of accidents",
          "total number of accidents",
          "total number of accidents",
          "total number of accidents",
          "total number of accidents",
          "total number of accidents",
          "total number of accidents",
          "Auto Rickshaws",
          "Bicycles",
          "Bridge",
          "Buses",
          "Cars, Taxis, Vans and LMV",
          "Culvert",
          "Curved Road",
          "Driving on Wrong side",
          "Drunken Driving/ Consumption of alcohol and drug",
          "Flashing Signal/Blinker",
          "Foggy and Misty",
          "Four arm Junction",
          "Hail/Sleet",
          "Jumping Red Light",
          "Ongoing Road Works/Under Construction",
          "Other Non",
          "Others",
          "Others",
          "Others",
          "Others",
          "Others",
          "Others",
          "Over",
          "Pedestrian",
          "Police Controlled",
          "Pot Holes",
          "Rainy",
          "Round about Junction",
          "Staggered Junction",
          "Steep Grade",
          "Stop Sign",
          "Straight Road",
          "Sunny/Clear",
          "T",
          "Traffic Light Signal",
          "Trucks/Lorries",
          "Two Wheelers",
          "Uncontrolled",
          "Use of Mobile Phone",
          "Y",
          "Impacting Vehicle/Object",
          "Junction",
          "Road Features",
          "Traffic Control",
          "Traffic Violation",
          "Weather"
         ],
         "name": "",
         "parents": [
          "Impacting Vehicle/Object/Auto Rickshaws",
          "Impacting Vehicle/Object/Bicycles",
          "Road Features/Bridge",
          "Impacting Vehicle/Object/Buses",
          "Impacting Vehicle/Object/Cars, Taxis, Vans and LMV",
          "Road Features/Culvert",
          "Road Features/Curved Road",
          "Traffic Violation/Driving on Wrong side",
          "Traffic Violation/Drunken Driving/ Consumption of alcohol and drug",
          "Traffic Control/Flashing Signal/Blinker",
          "Weather/Foggy and Misty",
          "Junction/Four arm Junction",
          "Weather/Hail/Sleet",
          "Traffic Violation/Jumping Red Light",
          "Road Features/Ongoing Road Works/Under Construction",
          "Impacting Vehicle/Object/Other Non",
          "Impacting Vehicle/Object/Others",
          "Junction/Others",
          "Road Features/Others",
          "Traffic Control/Others",
          "Traffic Violation/Others",
          "Weather/Others",
          "Traffic Violation/Over",
          "Impacting Vehicle/Object/Pedestrian",
          "Traffic Control/Police Controlled",
          "Road Features/Pot Holes",
          "Weather/Rainy",
          "Junction/Round about Junction",
          "Junction/Staggered Junction",
          "Road Features/Steep Grade",
          "Traffic Control/Stop Sign",
          "Road Features/Straight Road",
          "Weather/Sunny/Clear",
          "Junction/T",
          "Traffic Control/Traffic Light Signal",
          "Impacting Vehicle/Object/Trucks/Lorries",
          "Impacting Vehicle/Object/Two Wheelers",
          "Traffic Control/Uncontrolled",
          "Traffic Violation/Use of Mobile Phone",
          "Junction/Y",
          "Impacting Vehicle/Object/Auto Rickshaws",
          "Impacting Vehicle/Object/Bicycles",
          "Road Features/Bridge",
          "Impacting Vehicle/Object/Buses",
          "Impacting Vehicle/Object/Cars, Taxis, Vans and LMV",
          "Road Features/Culvert",
          "Road Features/Curved Road",
          "Traffic Violation/Driving on Wrong side",
          "Traffic Violation/Drunken Driving/ Consumption of alcohol and drug",
          "Traffic Control/Flashing Signal/Blinker",
          "Weather/Foggy and Misty",
          "Junction/Four arm Junction",
          "Weather/Hail/Sleet",
          "Traffic Violation/Jumping Red Light",
          "Road Features/Ongoing Road Works/Under Construction",
          "Impacting Vehicle/Object/Other Non",
          "Impacting Vehicle/Object/Others",
          "Junction/Others",
          "Road Features/Others",
          "Traffic Control/Others",
          "Traffic Violation/Others",
          "Weather/Others",
          "Traffic Violation/Over",
          "Impacting Vehicle/Object/Pedestrian",
          "Traffic Control/Police Controlled",
          "Road Features/Pot Holes",
          "Weather/Rainy",
          "Junction/Round about Junction",
          "Junction/Staggered Junction",
          "Road Features/Steep Grade",
          "Traffic Control/Stop Sign",
          "Road Features/Straight Road",
          "Weather/Sunny/Clear",
          "Junction/T",
          "Traffic Control/Traffic Light Signal",
          "Impacting Vehicle/Object/Trucks/Lorries",
          "Impacting Vehicle/Object/Two Wheelers",
          "Traffic Control/Uncontrolled",
          "Traffic Violation/Use of Mobile Phone",
          "Junction/Y",
          "Impacting Vehicle/Object/Auto Rickshaws",
          "Impacting Vehicle/Object/Bicycles",
          "Road Features/Bridge",
          "Impacting Vehicle/Object/Buses",
          "Impacting Vehicle/Object/Cars, Taxis, Vans and LMV",
          "Road Features/Culvert",
          "Road Features/Curved Road",
          "Traffic Violation/Driving on Wrong side",
          "Traffic Violation/Drunken Driving/ Consumption of alcohol and drug",
          "Traffic Control/Flashing Signal/Blinker",
          "Weather/Foggy and Misty",
          "Junction/Four arm Junction",
          "Weather/Hail/Sleet",
          "Traffic Violation/Jumping Red Light",
          "Road Features/Ongoing Road Works/Under Construction",
          "Impacting Vehicle/Object/Other Non",
          "Impacting Vehicle/Object/Others",
          "Junction/Others",
          "Road Features/Others",
          "Traffic Control/Others",
          "Traffic Violation/Others",
          "Weather/Others",
          "Traffic Violation/Over",
          "Impacting Vehicle/Object/Pedestrian",
          "Traffic Control/Police Controlled",
          "Road Features/Pot Holes",
          "Weather/Rainy",
          "Junction/Round about Junction",
          "Junction/Staggered Junction",
          "Road Features/Steep Grade",
          "Traffic Control/Stop Sign",
          "Road Features/Straight Road",
          "Weather/Sunny/Clear",
          "Junction/T",
          "Traffic Control/Traffic Light Signal",
          "Impacting Vehicle/Object/Trucks/Lorries",
          "Impacting Vehicle/Object/Two Wheelers",
          "Traffic Control/Uncontrolled",
          "Traffic Violation/Use of Mobile Phone",
          "Junction/Y",
          "Road Features/Bridge",
          "Road Features/Culvert",
          "Road Features/Curved Road",
          "Traffic Violation/Driving on Wrong side",
          "Traffic Violation/Drunken Driving/ Consumption of alcohol and drug",
          "Traffic Control/Flashing Signal/Blinker",
          "Weather/Foggy and Misty",
          "Junction/Four arm Junction",
          "Weather/Hail/Sleet",
          "Traffic Violation/Jumping Red Light",
          "Road Features/Ongoing Road Works/Under Construction",
          "Junction/Others",
          "Road Features/Others",
          "Traffic Control/Others",
          "Traffic Violation/Others",
          "Weather/Others",
          "Traffic Violation/Over",
          "Traffic Control/Police Controlled",
          "Road Features/Pot Holes",
          "Weather/Rainy",
          "Junction/Round about Junction",
          "Junction/Staggered Junction",
          "Road Features/Steep Grade",
          "Traffic Control/Stop Sign",
          "Road Features/Straight Road",
          "Weather/Sunny/Clear",
          "Junction/T",
          "Traffic Control/Traffic Light Signal",
          "Traffic Control/Uncontrolled",
          "Traffic Violation/Use of Mobile Phone",
          "Junction/Y",
          "Impacting Vehicle/Object/Auto Rickshaws",
          "Impacting Vehicle/Object/Bicycles",
          "Road Features/Bridge",
          "Impacting Vehicle/Object/Buses",
          "Impacting Vehicle/Object/Cars, Taxis, Vans and LMV",
          "Road Features/Culvert",
          "Road Features/Curved Road",
          "Traffic Violation/Driving on Wrong side",
          "Traffic Violation/Drunken Driving/ Consumption of alcohol and drug",
          "Traffic Control/Flashing Signal/Blinker",
          "Weather/Foggy and Misty",
          "Junction/Four arm Junction",
          "Weather/Hail/Sleet",
          "Traffic Violation/Jumping Red Light",
          "Road Features/Ongoing Road Works/Under Construction",
          "Impacting Vehicle/Object/Other Non",
          "Impacting Vehicle/Object/Others",
          "Junction/Others",
          "Road Features/Others",
          "Traffic Control/Others",
          "Traffic Violation/Others",
          "Weather/Others",
          "Traffic Violation/Over",
          "Impacting Vehicle/Object/Pedestrian",
          "Traffic Control/Police Controlled",
          "Road Features/Pot Holes",
          "Weather/Rainy",
          "Junction/Round about Junction",
          "Junction/Staggered Junction",
          "Road Features/Steep Grade",
          "Traffic Control/Stop Sign",
          "Road Features/Straight Road",
          "Weather/Sunny/Clear",
          "Junction/T",
          "Traffic Control/Traffic Light Signal",
          "Impacting Vehicle/Object/Trucks/Lorries",
          "Impacting Vehicle/Object/Two Wheelers",
          "Traffic Control/Uncontrolled",
          "Traffic Violation/Use of Mobile Phone",
          "Junction/Y",
          "Impacting Vehicle/Object",
          "Impacting Vehicle/Object",
          "Road Features",
          "Impacting Vehicle/Object",
          "Impacting Vehicle/Object",
          "Road Features",
          "Road Features",
          "Traffic Violation",
          "Traffic Violation",
          "Traffic Control",
          "Weather",
          "Junction",
          "Weather",
          "Traffic Violation",
          "Road Features",
          "Impacting Vehicle/Object",
          "Impacting Vehicle/Object",
          "Junction",
          "Road Features",
          "Traffic Control",
          "Traffic Violation",
          "Weather",
          "Traffic Violation",
          "Impacting Vehicle/Object",
          "Traffic Control",
          "Road Features",
          "Weather",
          "Junction",
          "Junction",
          "Road Features",
          "Traffic Control",
          "Road Features",
          "Weather",
          "Junction",
          "Traffic Control",
          "Impacting Vehicle/Object",
          "Impacting Vehicle/Object",
          "Traffic Control",
          "Traffic Violation",
          "Junction",
          "",
          "",
          "",
          "",
          "",
          ""
         ],
         "type": "sunburst",
         "values": [
          1318,
          498,
          647,
          514,
          2815,
          284,
          1863,
          660,
          343,
          600,
          1250,
          1746,
          291,
          259,
          592,
          219,
          611,
          12067,
          2741,
          12067,
          4244,
          1491,
          14643,
          4005,
          939,
          170,
          1467,
          695,
          2146,
          215,
          389,
          14020,
          16033,
          2810,
          1216,
          708,
          9844,
          5321,
          383,
          1068,
          1859,
          668,
          1578,
          962,
          4008,
          558,
          3127,
          1240,
          901,
          1028,
          1508,
          2650,
          263,
          741,
          658,
          470,
          2253,
          15779,
          6663,
          15779,
          5013,
          3431,
          21592,
          4977,
          1079,
          432,
          3144,
          1693,
          3610,
          688,
          842,
          16279,
          21637,
          4170,
          1727,
          1020,
          13766,
          9528,
          496,
          2081,
          530,
          654,
          845.5,
          355,
          1465,
          262,
          1242.75,
          659,
          390,
          531,
          1176,
          1081,
          317,
          288,
          541.75,
          283,
          980,
          8273,
          2220,
          8273,
          2833,
          2071,
          9003,
          2818,
          481,
          196,
          1178,
          589,
          1064,
          214,
          346,
          8020,
          8800,
          1617,
          578,
          750,
          5707,
          3333,
          369,
          918,
          2225,
          842,
          4990,
          1900,
          1244,
          1628,
          2758,
          4396,
          554,
          1000,
          1250,
          27846,
          9404,
          27846,
          9257,
          4922,
          36235,
          2018,
          602,
          4611,
          2388,
          5756,
          903,
          1231,
          30299,
          37670,
          6980,
          2943,
          14849,
          879,
          3149,
          3184,
          1652,
          2732,
          1639,
          8975,
          992,
          5512,
          2272,
          1477,
          1882,
          3634,
          5441,
          768,
          1099,
          1643,
          847,
          3900,
          32597,
          10578,
          32551,
          11247,
          6549,
          41540,
          10389,
          2301,
          705,
          5021,
          2710,
          6334,
          969,
          1582,
          35605,
          42764,
          7978,
          3450,
          3111,
          25039,
          16970,
          1101,
          3676,
          6891,
          3472,
          8027.5,
          3470,
          17263,
          2938,
          16734.75,
          6731,
          4355,
          5669,
          10326,
          15314,
          2193,
          3387,
          4684.75,
          1819,
          7744,
          96562,
          31606,
          96516,
          32594,
          18464,
          123013,
          22189,
          6818,
          2105,
          15421,
          8075,
          18910,
          2989,
          4390,
          104223,
          126904,
          23555,
          9914,
          5589,
          54356,
          50001,
          3228,
          10892,
          122793,
          173308,
          173308,
          173308,
          173308,
          173308
         ]
        }
       ],
       "layout": {
        "autosize": true,
        "legend": {
         "tracegroupgap": 0
        },
        "template": {
         "data": {
          "bar": [
           {
            "error_x": {
             "color": "#2a3f5f"
            },
            "error_y": {
             "color": "#2a3f5f"
            },
            "marker": {
             "line": {
              "color": "#E5ECF6",
              "width": 0.5
             },
             "pattern": {
              "fillmode": "overlay",
              "size": 10,
              "solidity": 0.2
             }
            },
            "type": "bar"
           }
          ],
          "barpolar": [
           {
            "marker": {
             "line": {
              "color": "#E5ECF6",
              "width": 0.5
             },
             "pattern": {
              "fillmode": "overlay",
              "size": 10,
              "solidity": 0.2
             }
            },
            "type": "barpolar"
           }
          ],
          "carpet": [
           {
            "aaxis": {
             "endlinecolor": "#2a3f5f",
             "gridcolor": "white",
             "linecolor": "white",
             "minorgridcolor": "white",
             "startlinecolor": "#2a3f5f"
            },
            "baxis": {
             "endlinecolor": "#2a3f5f",
             "gridcolor": "white",
             "linecolor": "white",
             "minorgridcolor": "white",
             "startlinecolor": "#2a3f5f"
            },
            "type": "carpet"
           }
          ],
          "choropleth": [
           {
            "colorbar": {
             "outlinewidth": 0,
             "ticks": ""
            },
            "type": "choropleth"
           }
          ],
          "contour": [
           {
            "colorbar": {
             "outlinewidth": 0,
             "ticks": ""
            },
            "colorscale": [
             [
              0,
              "#0d0887"
             ],
             [
              0.1111111111111111,
              "#46039f"
             ],
             [
              0.2222222222222222,
              "#7201a8"
             ],
             [
              0.3333333333333333,
              "#9c179e"
             ],
             [
              0.4444444444444444,
              "#bd3786"
             ],
             [
              0.5555555555555556,
              "#d8576b"
             ],
             [
              0.6666666666666666,
              "#ed7953"
             ],
             [
              0.7777777777777778,
              "#fb9f3a"
             ],
             [
              0.8888888888888888,
              "#fdca26"
             ],
             [
              1,
              "#f0f921"
             ]
            ],
            "type": "contour"
           }
          ],
          "contourcarpet": [
           {
            "colorbar": {
             "outlinewidth": 0,
             "ticks": ""
            },
            "type": "contourcarpet"
           }
          ],
          "heatmap": [
           {
            "colorbar": {
             "outlinewidth": 0,
             "ticks": ""
            },
            "colorscale": [
             [
              0,
              "#0d0887"
             ],
             [
              0.1111111111111111,
              "#46039f"
             ],
             [
              0.2222222222222222,
              "#7201a8"
             ],
             [
              0.3333333333333333,
              "#9c179e"
             ],
             [
              0.4444444444444444,
              "#bd3786"
             ],
             [
              0.5555555555555556,
              "#d8576b"
             ],
             [
              0.6666666666666666,
              "#ed7953"
             ],
             [
              0.7777777777777778,
              "#fb9f3a"
             ],
             [
              0.8888888888888888,
              "#fdca26"
             ],
             [
              1,
              "#f0f921"
             ]
            ],
            "type": "heatmap"
           }
          ],
          "heatmapgl": [
           {
            "colorbar": {
             "outlinewidth": 0,
             "ticks": ""
            },
            "colorscale": [
             [
              0,
              "#0d0887"
             ],
             [
              0.1111111111111111,
              "#46039f"
             ],
             [
              0.2222222222222222,
              "#7201a8"
             ],
             [
              0.3333333333333333,
              "#9c179e"
             ],
             [
              0.4444444444444444,
              "#bd3786"
             ],
             [
              0.5555555555555556,
              "#d8576b"
             ],
             [
              0.6666666666666666,
              "#ed7953"
             ],
             [
              0.7777777777777778,
              "#fb9f3a"
             ],
             [
              0.8888888888888888,
              "#fdca26"
             ],
             [
              1,
              "#f0f921"
             ]
            ],
            "type": "heatmapgl"
           }
          ],
          "histogram": [
           {
            "marker": {
             "pattern": {
              "fillmode": "overlay",
              "size": 10,
              "solidity": 0.2
             }
            },
            "type": "histogram"
           }
          ],
          "histogram2d": [
           {
            "colorbar": {
             "outlinewidth": 0,
             "ticks": ""
            },
            "colorscale": [
             [
              0,
              "#0d0887"
             ],
             [
              0.1111111111111111,
              "#46039f"
             ],
             [
              0.2222222222222222,
              "#7201a8"
             ],
             [
              0.3333333333333333,
              "#9c179e"
             ],
             [
              0.4444444444444444,
              "#bd3786"
             ],
             [
              0.5555555555555556,
              "#d8576b"
             ],
             [
              0.6666666666666666,
              "#ed7953"
             ],
             [
              0.7777777777777778,
              "#fb9f3a"
             ],
             [
              0.8888888888888888,
              "#fdca26"
             ],
             [
              1,
              "#f0f921"
             ]
            ],
            "type": "histogram2d"
           }
          ],
          "histogram2dcontour": [
           {
            "colorbar": {
             "outlinewidth": 0,
             "ticks": ""
            },
            "colorscale": [
             [
              0,
              "#0d0887"
             ],
             [
              0.1111111111111111,
              "#46039f"
             ],
             [
              0.2222222222222222,
              "#7201a8"
             ],
             [
              0.3333333333333333,
              "#9c179e"
             ],
             [
              0.4444444444444444,
              "#bd3786"
             ],
             [
              0.5555555555555556,
              "#d8576b"
             ],
             [
              0.6666666666666666,
              "#ed7953"
             ],
             [
              0.7777777777777778,
              "#fb9f3a"
             ],
             [
              0.8888888888888888,
              "#fdca26"
             ],
             [
              1,
              "#f0f921"
             ]
            ],
            "type": "histogram2dcontour"
           }
          ],
          "mesh3d": [
           {
            "colorbar": {
             "outlinewidth": 0,
             "ticks": ""
            },
            "type": "mesh3d"
           }
          ],
          "parcoords": [
           {
            "line": {
             "colorbar": {
              "outlinewidth": 0,
              "ticks": ""
             }
            },
            "type": "parcoords"
           }
          ],
          "pie": [
           {
            "automargin": true,
            "type": "pie"
           }
          ],
          "scatter": [
           {
            "fillpattern": {
             "fillmode": "overlay",
             "size": 10,
             "solidity": 0.2
            },
            "type": "scatter"
           }
          ],
          "scatter3d": [
           {
            "line": {
             "colorbar": {
              "outlinewidth": 0,
              "ticks": ""
             }
            },
            "marker": {
             "colorbar": {
              "outlinewidth": 0,
              "ticks": ""
             }
            },
            "type": "scatter3d"
           }
          ],
          "scattercarpet": [
           {
            "marker": {
             "colorbar": {
              "outlinewidth": 0,
              "ticks": ""
             }
            },
            "type": "scattercarpet"
           }
          ],
          "scattergeo": [
           {
            "marker": {
             "colorbar": {
              "outlinewidth": 0,
              "ticks": ""
             }
            },
            "type": "scattergeo"
           }
          ],
          "scattergl": [
           {
            "marker": {
             "colorbar": {
              "outlinewidth": 0,
              "ticks": ""
             }
            },
            "type": "scattergl"
           }
          ],
          "scattermapbox": [
           {
            "marker": {
             "colorbar": {
              "outlinewidth": 0,
              "ticks": ""
             }
            },
            "type": "scattermapbox"
           }
          ],
          "scatterpolar": [
           {
            "marker": {
             "colorbar": {
              "outlinewidth": 0,
              "ticks": ""
             }
            },
            "type": "scatterpolar"
           }
          ],
          "scatterpolargl": [
           {
            "marker": {
             "colorbar": {
              "outlinewidth": 0,
              "ticks": ""
             }
            },
            "type": "scatterpolargl"
           }
          ],
          "scatterternary": [
           {
            "marker": {
             "colorbar": {
              "outlinewidth": 0,
              "ticks": ""
             }
            },
            "type": "scatterternary"
           }
          ],
          "surface": [
           {
            "colorbar": {
             "outlinewidth": 0,
             "ticks": ""
            },
            "colorscale": [
             [
              0,
              "#0d0887"
             ],
             [
              0.1111111111111111,
              "#46039f"
             ],
             [
              0.2222222222222222,
              "#7201a8"
             ],
             [
              0.3333333333333333,
              "#9c179e"
             ],
             [
              0.4444444444444444,
              "#bd3786"
             ],
             [
              0.5555555555555556,
              "#d8576b"
             ],
             [
              0.6666666666666666,
              "#ed7953"
             ],
             [
              0.7777777777777778,
              "#fb9f3a"
             ],
             [
              0.8888888888888888,
              "#fdca26"
             ],
             [
              1,
              "#f0f921"
             ]
            ],
            "type": "surface"
           }
          ],
          "table": [
           {
            "cells": {
             "fill": {
              "color": "#EBF0F8"
             },
             "line": {
              "color": "white"
             }
            },
            "header": {
             "fill": {
              "color": "#C8D4E3"
             },
             "line": {
              "color": "white"
             }
            },
            "type": "table"
           }
          ]
         },
         "layout": {
          "annotationdefaults": {
           "arrowcolor": "#2a3f5f",
           "arrowhead": 0,
           "arrowwidth": 1
          },
          "autotypenumbers": "strict",
          "coloraxis": {
           "colorbar": {
            "outlinewidth": 0,
            "ticks": ""
           }
          },
          "colorscale": {
           "diverging": [
            [
             0,
             "#8e0152"
            ],
            [
             0.1,
             "#c51b7d"
            ],
            [
             0.2,
             "#de77ae"
            ],
            [
             0.3,
             "#f1b6da"
            ],
            [
             0.4,
             "#fde0ef"
            ],
            [
             0.5,
             "#f7f7f7"
            ],
            [
             0.6,
             "#e6f5d0"
            ],
            [
             0.7,
             "#b8e186"
            ],
            [
             0.8,
             "#7fbc41"
            ],
            [
             0.9,
             "#4d9221"
            ],
            [
             1,
             "#276419"
            ]
           ],
           "sequential": [
            [
             0,
             "#0d0887"
            ],
            [
             0.1111111111111111,
             "#46039f"
            ],
            [
             0.2222222222222222,
             "#7201a8"
            ],
            [
             0.3333333333333333,
             "#9c179e"
            ],
            [
             0.4444444444444444,
             "#bd3786"
            ],
            [
             0.5555555555555556,
             "#d8576b"
            ],
            [
             0.6666666666666666,
             "#ed7953"
            ],
            [
             0.7777777777777778,
             "#fb9f3a"
            ],
            [
             0.8888888888888888,
             "#fdca26"
            ],
            [
             1,
             "#f0f921"
            ]
           ],
           "sequentialminus": [
            [
             0,
             "#0d0887"
            ],
            [
             0.1111111111111111,
             "#46039f"
            ],
            [
             0.2222222222222222,
             "#7201a8"
            ],
            [
             0.3333333333333333,
             "#9c179e"
            ],
            [
             0.4444444444444444,
             "#bd3786"
            ],
            [
             0.5555555555555556,
             "#d8576b"
            ],
            [
             0.6666666666666666,
             "#ed7953"
            ],
            [
             0.7777777777777778,
             "#fb9f3a"
            ],
            [
             0.8888888888888888,
             "#fdca26"
            ],
            [
             1,
             "#f0f921"
            ]
           ]
          },
          "colorway": [
           "#636efa",
           "#EF553B",
           "#00cc96",
           "#ab63fa",
           "#FFA15A",
           "#19d3f3",
           "#FF6692",
           "#B6E880",
           "#FF97FF",
           "#FECB52"
          ],
          "font": {
           "color": "#2a3f5f"
          },
          "geo": {
           "bgcolor": "white",
           "lakecolor": "white",
           "landcolor": "#E5ECF6",
           "showlakes": true,
           "showland": true,
           "subunitcolor": "white"
          },
          "hoverlabel": {
           "align": "left"
          },
          "hovermode": "closest",
          "mapbox": {
           "style": "light"
          },
          "paper_bgcolor": "white",
          "plot_bgcolor": "#E5ECF6",
          "polar": {
           "angularaxis": {
            "gridcolor": "white",
            "linecolor": "white",
            "ticks": ""
           },
           "bgcolor": "#E5ECF6",
           "radialaxis": {
            "gridcolor": "white",
            "linecolor": "white",
            "ticks": ""
           }
          },
          "scene": {
           "xaxis": {
            "backgroundcolor": "#E5ECF6",
            "gridcolor": "white",
            "gridwidth": 2,
            "linecolor": "white",
            "showbackground": true,
            "ticks": "",
            "zerolinecolor": "white"
           },
           "yaxis": {
            "backgroundcolor": "#E5ECF6",
            "gridcolor": "white",
            "gridwidth": 2,
            "linecolor": "white",
            "showbackground": true,
            "ticks": "",
            "zerolinecolor": "white"
           },
           "zaxis": {
            "backgroundcolor": "#E5ECF6",
            "gridcolor": "white",
            "gridwidth": 2,
            "linecolor": "white",
            "showbackground": true,
            "ticks": "",
            "zerolinecolor": "white"
           }
          },
          "shapedefaults": {
           "line": {
            "color": "#2a3f5f"
           }
          },
          "ternary": {
           "aaxis": {
            "gridcolor": "white",
            "linecolor": "white",
            "ticks": ""
           },
           "baxis": {
            "gridcolor": "white",
            "linecolor": "white",
            "ticks": ""
           },
           "bgcolor": "#E5ECF6",
           "caxis": {
            "gridcolor": "white",
            "linecolor": "white",
            "ticks": ""
           }
          },
          "title": {
           "x": 0.05
          },
          "xaxis": {
           "automargin": true,
           "gridcolor": "white",
           "linecolor": "white",
           "ticks": "",
           "title": {
            "standoff": 15
           },
           "zerolinecolor": "white",
           "zerolinewidth": 2
          },
          "yaxis": {
           "automargin": true,
           "gridcolor": "white",
           "linecolor": "white",
           "ticks": "",
           "title": {
            "standoff": 15
           },
           "zerolinecolor": "white",
           "zerolinewidth": 2
          }
         }
        },
        "title": {
         "text": "Sunburst Cause and Outcomes"
        }
       }
      },
      "image/png": "[encoded data removed]",
      "text/html": [
       "<div>                            <div id=\"a35e8b06-87f2-42e4-bcac-63f6930a61fe\" class=\"plotly-graph-div\" style=\"height:525px; width:100%;\"></div>            <script type=\"text/javascript\">                require([\"plotly\"], function(Plotly) {                    window.PLOTLYENV=window.PLOTLYENV || {};                                    if (document.getElementById(\"a35e8b06-87f2-42e4-bcac-63f6930a61fe\")) {                    Plotly.newPlot(                        \"a35e8b06-87f2-42e4-bcac-63f6930a61fe\",                        [{\"branchvalues\":\"total\",\"domain\":{\"x\":[0.0,1.0],\"y\":[0.0,1.0]},\"hovertemplate\":\"labels=%{label}\\u003cbr\\u003eCount=%{value}\\u003cbr\\u003eparent=%{parent}\\u003cbr\\u003eid=%{id}\\u003cextra\\u003e\\u003c\\u002fextra\\u003e\",\"ids\":[\"Impacting Vehicle\\u002fObject\\u002fAuto Rickshaws\\u002fgreviously injured\",\"Impacting Vehicle\\u002fObject\\u002fBicycles\\u002fgreviously injured\",\"Road Features\\u002fBridge\\u002fgreviously injured\",\"Impacting Vehicle\\u002fObject\\u002fBuses\\u002fgreviously injured\",\"Impacting Vehicle\\u002fObject\\u002fCars, Taxis, Vans and LMV\\u002fgreviously injured\",\"Road Features\\u002fCulvert\\u002fgreviously injured\",\"Road Features\\u002fCurved Road\\u002fgreviously injured\",\"Traffic Violation\\u002fDriving on Wrong side\\u002fgreviously injured\",\"Traffic Violation\\u002fDrunken Driving\\u002f Consumption of alcohol and drug\\u002fgreviously injured\",\"Traffic Control\\u002fFlashing Signal\\u002fBlinker\\u002fgreviously injured\",\"Weather\\u002fFoggy and Misty\\u002fgreviously injured\",\"Junction\\u002fFour arm Junction\\u002fgreviously injured\",\"Weather\\u002fHail\\u002fSleet\\u002fgreviously injured\",\"Traffic Violation\\u002fJumping Red Light\\u002fgreviously injured\",\"Road Features\\u002fOngoing Road Works\\u002fUnder Construction\\u002fgreviously injured\",\"Impacting Vehicle\\u002fObject\\u002fOther Non\\u002fgreviously injured\",\"Impacting Vehicle\\u002fObject\\u002fOthers\\u002fgreviously injured\",\"Junction\\u002fOthers\\u002fgreviously injured\",\"Road Features\\u002fOthers\\u002fgreviously injured\",\"Traffic Control\\u002fOthers\\u002fgreviously injured\",\"Traffic Violation\\u002fOthers\\u002fgreviously injured\",\"Weather\\u002fOthers\\u002fgreviously injured\",\"Traffic Violation\\u002fOver\\u002fgreviously injured\",\"Impacting Vehicle\\u002fObject\\u002fPedestrian\\u002fgreviously injured\",\"Traffic Control\\u002fPolice Controlled\\u002fgreviously injured\",\"Road Features\\u002fPot Holes\\u002fgreviously injured\",\"Weather\\u002fRainy\\u002fgreviously injured\",\"Junction\\u002fRound about Junction\\u002fgreviously injured\",\"Junction\\u002fStaggered Junction\\u002fgreviously injured\",\"Road Features\\u002fSteep Grade\\u002fgreviously injured\",\"Traffic Control\\u002fStop Sign\\u002fgreviously injured\",\"Road Features\\u002fStraight Road\\u002fgreviously injured\",\"Weather\\u002fSunny\\u002fClear\\u002fgreviously injured\",\"Junction\\u002fT\\u002fgreviously injured\",\"Traffic Control\\u002fTraffic Light Signal\\u002fgreviously injured\",\"Impacting Vehicle\\u002fObject\\u002fTrucks\\u002fLorries\\u002fgreviously injured\",\"Impacting Vehicle\\u002fObject\\u002fTwo Wheelers\\u002fgreviously injured\",\"Traffic Control\\u002fUncontrolled\\u002fgreviously injured\",\"Traffic Violation\\u002fUse of Mobile Phone\\u002fgreviously injured\",\"Junction\\u002fY\\u002fgreviously injured\",\"Impacting Vehicle\\u002fObject\\u002fAuto Rickshaws\\u002fminor injury\",\"Impacting Vehicle\\u002fObject\\u002fBicycles\\u002fminor injury\",\"Road Features\\u002fBridge\\u002fminor injury\",\"Impacting Vehicle\\u002fObject\\u002fBuses\\u002fminor injury\",\"Impacting Vehicle\\u002fObject\\u002fCars, Taxis, Vans and LMV\\u002fminor injury\",\"Road Features\\u002fCulvert\\u002fminor injury\",\"Road Features\\u002fCurved Road\\u002fminor injury\",\"Traffic Violation\\u002fDriving on Wrong side\\u002fminor injury\",\"Traffic Violation\\u002fDrunken Driving\\u002f Consumption of alcohol and drug\\u002fminor injury\",\"Traffic Control\\u002fFlashing Signal\\u002fBlinker\\u002fminor injury\",\"Weather\\u002fFoggy and Misty\\u002fminor injury\",\"Junction\\u002fFour arm Junction\\u002fminor injury\",\"Weather\\u002fHail\\u002fSleet\\u002fminor injury\",\"Traffic Violation\\u002fJumping Red Light\\u002fminor injury\",\"Road Features\\u002fOngoing Road Works\\u002fUnder Construction\\u002fminor injury\",\"Impacting Vehicle\\u002fObject\\u002fOther Non\\u002fminor injury\",\"Impacting Vehicle\\u002fObject\\u002fOthers\\u002fminor injury\",\"Junction\\u002fOthers\\u002fminor injury\",\"Road Features\\u002fOthers\\u002fminor injury\",\"Traffic Control\\u002fOthers\\u002fminor injury\",\"Traffic Violation\\u002fOthers\\u002fminor injury\",\"Weather\\u002fOthers\\u002fminor injury\",\"Traffic Violation\\u002fOver\\u002fminor injury\",\"Impacting Vehicle\\u002fObject\\u002fPedestrian\\u002fminor injury\",\"Traffic Control\\u002fPolice Controlled\\u002fminor injury\",\"Road Features\\u002fPot Holes\\u002fminor injury\",\"Weather\\u002fRainy\\u002fminor injury\",\"Junction\\u002fRound about Junction\\u002fminor injury\",\"Junction\\u002fStaggered Junction\\u002fminor injury\",\"Road Features\\u002fSteep Grade\\u002fminor injury\",\"Traffic Control\\u002fStop Sign\\u002fminor injury\",\"Road Features\\u002fStraight Road\\u002fminor injury\",\"Weather\\u002fSunny\\u002fClear\\u002fminor injury\",\"Junction\\u002fT\\u002fminor injury\",\"Traffic Control\\u002fTraffic Light Signal\\u002fminor injury\",\"Impacting Vehicle\\u002fObject\\u002fTrucks\\u002fLorries\\u002fminor injury\",\"Impacting Vehicle\\u002fObject\\u002fTwo Wheelers\\u002fminor injury\",\"Traffic Control\\u002fUncontrolled\\u002fminor injury\",\"Traffic Violation\\u002fUse of Mobile Phone\\u002fminor injury\",\"Junction\\u002fY\\u002fminor injury\",\"Impacting Vehicle\\u002fObject\\u002fAuto Rickshaws\\u002fpersons killed\",\"Impacting Vehicle\\u002fObject\\u002fBicycles\\u002fpersons killed\",\"Road Features\\u002fBridge\\u002fpersons killed\",\"Impacting Vehicle\\u002fObject\\u002fBuses\\u002fpersons killed\",\"Impacting Vehicle\\u002fObject\\u002fCars, Taxis, Vans and LMV\\u002fpersons killed\",\"Road Features\\u002fCulvert\\u002fpersons killed\",\"Road Features\\u002fCurved Road\\u002fpersons killed\",\"Traffic Violation\\u002fDriving on Wrong side\\u002fpersons killed\",\"Traffic Violation\\u002fDrunken Driving\\u002f Consumption of alcohol and drug\\u002fpersons killed\",\"Traffic Control\\u002fFlashing Signal\\u002fBlinker\\u002fpersons killed\",\"Weather\\u002fFoggy and Misty\\u002fpersons killed\",\"Junction\\u002fFour arm Junction\\u002fpersons killed\",\"Weather\\u002fHail\\u002fSleet\\u002fpersons killed\",\"Traffic Violation\\u002fJumping Red Light\\u002fpersons killed\",\"Road Features\\u002fOngoing Road Works\\u002fUnder Construction\\u002fpersons killed\",\"Impacting Vehicle\\u002fObject\\u002fOther Non\\u002fpersons killed\",\"Impacting Vehicle\\u002fObject\\u002fOthers\\u002fpersons killed\",\"Junction\\u002fOthers\\u002fpersons killed\",\"Road Features\\u002fOthers\\u002fpersons killed\",\"Traffic Control\\u002fOthers\\u002fpersons killed\",\"Traffic Violation\\u002fOthers\\u002fpersons killed\",\"Weather\\u002fOthers\\u002fpersons killed\",\"Traffic Violation\\u002fOver\\u002fpersons killed\",\"Impacting Vehicle\\u002fObject\\u002fPedestrian\\u002fpersons killed\",\"Traffic Control\\u002fPolice Controlled\\u002fpersons killed\",\"Road Features\\u002fPot Holes\\u002fpersons killed\",\"Weather\\u002fRainy\\u002fpersons killed\",\"Junction\\u002fRound about Junction\\u002fpersons killed\",\"Junction\\u002fStaggered Junction\\u002fpersons killed\",\"Road Features\\u002fSteep Grade\\u002fpersons killed\",\"Traffic Control\\u002fStop Sign\\u002fpersons killed\",\"Road Features\\u002fStraight Road\\u002fpersons killed\",\"Weather\\u002fSunny\\u002fClear\\u002fpersons killed\",\"Junction\\u002fT\\u002fpersons killed\",\"Traffic Control\\u002fTraffic Light Signal\\u002fpersons killed\",\"Impacting Vehicle\\u002fObject\\u002fTrucks\\u002fLorries\\u002fpersons killed\",\"Impacting Vehicle\\u002fObject\\u002fTwo Wheelers\\u002fpersons killed\",\"Traffic Control\\u002fUncontrolled\\u002fpersons killed\",\"Traffic Violation\\u002fUse of Mobile Phone\\u002fpersons killed\",\"Junction\\u002fY\\u002fpersons killed\",\"Road Features\\u002fBridge\\u002ftotal injured\",\"Road Features\\u002fCulvert\\u002ftotal injured\",\"Road Features\\u002fCurved Road\\u002ftotal injured\",\"Traffic Violation\\u002fDriving on Wrong side\\u002ftotal injured\",\"Traffic Violation\\u002fDrunken Driving\\u002f Consumption of alcohol and drug\\u002ftotal injured\",\"Traffic Control\\u002fFlashing Signal\\u002fBlinker\\u002ftotal injured\",\"Weather\\u002fFoggy and Misty\\u002ftotal injured\",\"Junction\\u002fFour arm Junction\\u002ftotal injured\",\"Weather\\u002fHail\\u002fSleet\\u002ftotal injured\",\"Traffic Violation\\u002fJumping Red Light\\u002ftotal injured\",\"Road Features\\u002fOngoing Road Works\\u002fUnder Construction\\u002ftotal injured\",\"Junction\\u002fOthers\\u002ftotal injured\",\"Road Features\\u002fOthers\\u002ftotal injured\",\"Traffic Control\\u002fOthers\\u002ftotal injured\",\"Traffic Violation\\u002fOthers\\u002ftotal injured\",\"Weather\\u002fOthers\\u002ftotal injured\",\"Traffic Violation\\u002fOver\\u002ftotal injured\",\"Traffic Control\\u002fPolice Controlled\\u002ftotal injured\",\"Road Features\\u002fPot Holes\\u002ftotal injured\",\"Weather\\u002fRainy\\u002ftotal injured\",\"Junction\\u002fRound about Junction\\u002ftotal injured\",\"Junction\\u002fStaggered Junction\\u002ftotal injured\",\"Road Features\\u002fSteep Grade\\u002ftotal injured\",\"Traffic Control\\u002fStop Sign\\u002ftotal injured\",\"Road Features\\u002fStraight Road\\u002ftotal injured\",\"Weather\\u002fSunny\\u002fClear\\u002ftotal injured\",\"Junction\\u002fT\\u002ftotal injured\",\"Traffic Control\\u002fTraffic Light Signal\\u002ftotal injured\",\"Traffic Control\\u002fUncontrolled\\u002ftotal injured\",\"Traffic Violation\\u002fUse of Mobile Phone\\u002ftotal injured\",\"Junction\\u002fY\\u002ftotal injured\",\"Impacting Vehicle\\u002fObject\\u002fAuto Rickshaws\\u002ftotal number of accidents\",\"Impacting Vehicle\\u002fObject\\u002fBicycles\\u002ftotal number of accidents\",\"Road Features\\u002fBridge\\u002ftotal number of accidents\",\"Impacting Vehicle\\u002fObject\\u002fBuses\\u002ftotal number of accidents\",\"Impacting Vehicle\\u002fObject\\u002fCars, Taxis, Vans and LMV\\u002ftotal number of accidents\",\"Road Features\\u002fCulvert\\u002ftotal number of accidents\",\"Road Features\\u002fCurved Road\\u002ftotal number of accidents\",\"Traffic Violation\\u002fDriving on Wrong side\\u002ftotal number of accidents\",\"Traffic Violation\\u002fDrunken Driving\\u002f Consumption of alcohol and drug\\u002ftotal number of accidents\",\"Traffic Control\\u002fFlashing Signal\\u002fBlinker\\u002ftotal number of accidents\",\"Weather\\u002fFoggy and Misty\\u002ftotal number of accidents\",\"Junction\\u002fFour arm Junction\\u002ftotal number of accidents\",\"Weather\\u002fHail\\u002fSleet\\u002ftotal number of accidents\",\"Traffic Violation\\u002fJumping Red Light\\u002ftotal number of accidents\",\"Road Features\\u002fOngoing Road Works\\u002fUnder Construction\\u002ftotal number of accidents\",\"Impacting Vehicle\\u002fObject\\u002fOther Non\\u002ftotal number of accidents\",\"Impacting Vehicle\\u002fObject\\u002fOthers\\u002ftotal number of accidents\",\"Junction\\u002fOthers\\u002ftotal number of accidents\",\"Road Features\\u002fOthers\\u002ftotal number of accidents\",\"Traffic Control\\u002fOthers\\u002ftotal number of accidents\",\"Traffic Violation\\u002fOthers\\u002ftotal number of accidents\",\"Weather\\u002fOthers\\u002ftotal number of accidents\",\"Traffic Violation\\u002fOver\\u002ftotal number of accidents\",\"Impacting Vehicle\\u002fObject\\u002fPedestrian\\u002ftotal number of accidents\",\"Traffic Control\\u002fPolice Controlled\\u002ftotal number of accidents\",\"Road Features\\u002fPot Holes\\u002ftotal number of accidents\",\"Weather\\u002fRainy\\u002ftotal number of accidents\",\"Junction\\u002fRound about Junction\\u002ftotal number of accidents\",\"Junction\\u002fStaggered Junction\\u002ftotal number of accidents\",\"Road Features\\u002fSteep Grade\\u002ftotal number of accidents\",\"Traffic Control\\u002fStop Sign\\u002ftotal number of accidents\",\"Road Features\\u002fStraight Road\\u002ftotal number of accidents\",\"Weather\\u002fSunny\\u002fClear\\u002ftotal number of accidents\",\"Junction\\u002fT\\u002ftotal number of accidents\",\"Traffic Control\\u002fTraffic Light Signal\\u002ftotal number of accidents\",\"Impacting Vehicle\\u002fObject\\u002fTrucks\\u002fLorries\\u002ftotal number of accidents\",\"Impacting Vehicle\\u002fObject\\u002fTwo Wheelers\\u002ftotal number of accidents\",\"Traffic Control\\u002fUncontrolled\\u002ftotal number of accidents\",\"Traffic Violation\\u002fUse of Mobile Phone\\u002ftotal number of accidents\",\"Junction\\u002fY\\u002ftotal number of accidents\",\"Impacting Vehicle\\u002fObject\\u002fAuto Rickshaws\",\"Impacting Vehicle\\u002fObject\\u002fBicycles\",\"Road Features\\u002fBridge\",\"Impacting Vehicle\\u002fObject\\u002fBuses\",\"Impacting Vehicle\\u002fObject\\u002fCars, Taxis, Vans and LMV\",\"Road Features\\u002fCulvert\",\"Road Features\\u002fCurved Road\",\"Traffic Violation\\u002fDriving on Wrong side\",\"Traffic Violation\\u002fDrunken Driving\\u002f Consumption of alcohol and drug\",\"Traffic Control\\u002fFlashing Signal\\u002fBlinker\",\"Weather\\u002fFoggy and Misty\",\"Junction\\u002fFour arm Junction\",\"Weather\\u002fHail\\u002fSleet\",\"Traffic Violation\\u002fJumping Red Light\",\"Road Features\\u002fOngoing Road Works\\u002fUnder Construction\",\"Impacting Vehicle\\u002fObject\\u002fOther Non\",\"Impacting Vehicle\\u002fObject\\u002fOthers\",\"Junction\\u002fOthers\",\"Road Features\\u002fOthers\",\"Traffic Control\\u002fOthers\",\"Traffic Violation\\u002fOthers\",\"Weather\\u002fOthers\",\"Traffic Violation\\u002fOver\",\"Impacting Vehicle\\u002fObject\\u002fPedestrian\",\"Traffic Control\\u002fPolice Controlled\",\"Road Features\\u002fPot Holes\",\"Weather\\u002fRainy\",\"Junction\\u002fRound about Junction\",\"Junction\\u002fStaggered Junction\",\"Road Features\\u002fSteep Grade\",\"Traffic Control\\u002fStop Sign\",\"Road Features\\u002fStraight Road\",\"Weather\\u002fSunny\\u002fClear\",\"Junction\\u002fT\",\"Traffic Control\\u002fTraffic Light Signal\",\"Impacting Vehicle\\u002fObject\\u002fTrucks\\u002fLorries\",\"Impacting Vehicle\\u002fObject\\u002fTwo Wheelers\",\"Traffic Control\\u002fUncontrolled\",\"Traffic Violation\\u002fUse of Mobile Phone\",\"Junction\\u002fY\",\"Impacting Vehicle\\u002fObject\",\"Junction\",\"Road Features\",\"Traffic Control\",\"Traffic Violation\",\"Weather\"],\"labels\":[\"greviously injured\",\"greviously injured\",\"greviously injured\",\"greviously injured\",\"greviously injured\",\"greviously injured\",\"greviously injured\",\"greviously injured\",\"greviously injured\",\"greviously injured\",\"greviously injured\",\"greviously injured\",\"greviously injured\",\"greviously injured\",\"greviously injured\",\"greviously injured\",\"greviously injured\",\"greviously injured\",\"greviously injured\",\"greviously injured\",\"greviously injured\",\"greviously injured\",\"greviously injured\",\"greviously injured\",\"greviously injured\",\"greviously injured\",\"greviously injured\",\"greviously injured\",\"greviously injured\",\"greviously injured\",\"greviously injured\",\"greviously injured\",\"greviously injured\",\"greviously injured\",\"greviously injured\",\"greviously injured\",\"greviously injured\",\"greviously injured\",\"greviously injured\",\"greviously injured\",\"minor injury\",\"minor injury\",\"minor injury\",\"minor injury\",\"minor injury\",\"minor injury\",\"minor injury\",\"minor injury\",\"minor injury\",\"minor injury\",\"minor injury\",\"minor injury\",\"minor injury\",\"minor injury\",\"minor injury\",\"minor injury\",\"minor injury\",\"minor injury\",\"minor injury\",\"minor injury\",\"minor injury\",\"minor injury\",\"minor injury\",\"minor injury\",\"minor injury\",\"minor injury\",\"minor injury\",\"minor injury\",\"minor injury\",\"minor injury\",\"minor injury\",\"minor injury\",\"minor injury\",\"minor injury\",\"minor injury\",\"minor injury\",\"minor injury\",\"minor injury\",\"minor injury\",\"minor injury\",\"persons killed\",\"persons killed\",\"persons killed\",\"persons killed\",\"persons killed\",\"persons killed\",\"persons killed\",\"persons killed\",\"persons killed\",\"persons killed\",\"persons killed\",\"persons killed\",\"persons killed\",\"persons killed\",\"persons killed\",\"persons killed\",\"persons killed\",\"persons killed\",\"persons killed\",\"persons killed\",\"persons killed\",\"persons killed\",\"persons killed\",\"persons killed\",\"persons killed\",\"persons killed\",\"persons killed\",\"persons killed\",\"persons killed\",\"persons killed\",\"persons killed\",\"persons killed\",\"persons killed\",\"persons killed\",\"persons killed\",\"persons killed\",\"persons killed\",\"persons killed\",\"persons killed\",\"persons killed\",\"total injured\",\"total injured\",\"total injured\",\"total injured\",\"total injured\",\"total injured\",\"total injured\",\"total injured\",\"total injured\",\"total injured\",\"total injured\",\"total injured\",\"total injured\",\"total injured\",\"total injured\",\"total injured\",\"total injured\",\"total injured\",\"total injured\",\"total injured\",\"total injured\",\"total injured\",\"total injured\",\"total injured\",\"total injured\",\"total injured\",\"total injured\",\"total injured\",\"total injured\",\"total injured\",\"total injured\",\"total number of accidents\",\"total number of accidents\",\"total number of accidents\",\"total number of accidents\",\"total number of accidents\",\"total number of accidents\",\"total number of accidents\",\"total number of accidents\",\"total number of accidents\",\"total number of accidents\",\"total number of accidents\",\"total number of accidents\",\"total number of accidents\",\"total number of accidents\",\"total number of accidents\",\"total number of accidents\",\"total number of accidents\",\"total number of accidents\",\"total number of accidents\",\"total number of accidents\",\"total number of accidents\",\"total number of accidents\",\"total number of accidents\",\"total number of accidents\",\"total number of accidents\",\"total number of accidents\",\"total number of accidents\",\"total number of accidents\",\"total number of accidents\",\"total number of accidents\",\"total number of accidents\",\"total number of accidents\",\"total number of accidents\",\"total number of accidents\",\"total number of accidents\",\"total number of accidents\",\"total number of accidents\",\"total number of accidents\",\"total number of accidents\",\"total number of accidents\",\"Auto Rickshaws\",\"Bicycles\",\"Bridge\",\"Buses\",\"Cars, Taxis, Vans and LMV\",\"Culvert\",\"Curved Road\",\"Driving on Wrong side\",\"Drunken Driving\\u002f Consumption of alcohol and drug\",\"Flashing Signal\\u002fBlinker\",\"Foggy and Misty\",\"Four arm Junction\",\"Hail\\u002fSleet\",\"Jumping Red Light\",\"Ongoing Road Works\\u002fUnder Construction\",\"Other Non\",\"Others\",\"Others\",\"Others\",\"Others\",\"Others\",\"Others\",\"Over\",\"Pedestrian\",\"Police Controlled\",\"Pot Holes\",\"Rainy\",\"Round about Junction\",\"Staggered Junction\",\"Steep Grade\",\"Stop Sign\",\"Straight Road\",\"Sunny\\u002fClear\",\"T\",\"Traffic Light Signal\",\"Trucks\\u002fLorries\",\"Two Wheelers\",\"Uncontrolled\",\"Use of Mobile Phone\",\"Y\",\"Impacting Vehicle\\u002fObject\",\"Junction\",\"Road Features\",\"Traffic Control\",\"Traffic Violation\",\"Weather\"],\"name\":\"\",\"parents\":[\"Impacting Vehicle\\u002fObject\\u002fAuto Rickshaws\",\"Impacting Vehicle\\u002fObject\\u002fBicycles\",\"Road Features\\u002fBridge\",\"Impacting Vehicle\\u002fObject\\u002fBuses\",\"Impacting Vehicle\\u002fObject\\u002fCars, Taxis, Vans and LMV\",\"Road Features\\u002fCulvert\",\"Road Features\\u002fCurved Road\",\"Traffic Violation\\u002fDriving on Wrong side\",\"Traffic Violation\\u002fDrunken Driving\\u002f Consumption of alcohol and drug\",\"Traffic Control\\u002fFlashing Signal\\u002fBlinker\",\"Weather\\u002fFoggy and Misty\",\"Junction\\u002fFour arm Junction\",\"Weather\\u002fHail\\u002fSleet\",\"Traffic Violation\\u002fJumping Red Light\",\"Road Features\\u002fOngoing Road Works\\u002fUnder Construction\",\"Impacting Vehicle\\u002fObject\\u002fOther Non\",\"Impacting Vehicle\\u002fObject\\u002fOthers\",\"Junction\\u002fOthers\",\"Road Features\\u002fOthers\",\"Traffic Control\\u002fOthers\",\"Traffic Violation\\u002fOthers\",\"Weather\\u002fOthers\",\"Traffic Violation\\u002fOver\",\"Impacting Vehicle\\u002fObject\\u002fPedestrian\",\"Traffic Control\\u002fPolice Controlled\",\"Road Features\\u002fPot Holes\",\"Weather\\u002fRainy\",\"Junction\\u002fRound about Junction\",\"Junction\\u002fStaggered Junction\",\"Road Features\\u002fSteep Grade\",\"Traffic Control\\u002fStop Sign\",\"Road Features\\u002fStraight Road\",\"Weather\\u002fSunny\\u002fClear\",\"Junction\\u002fT\",\"Traffic Control\\u002fTraffic Light Signal\",\"Impacting Vehicle\\u002fObject\\u002fTrucks\\u002fLorries\",\"Impacting Vehicle\\u002fObject\\u002fTwo Wheelers\",\"Traffic Control\\u002fUncontrolled\",\"Traffic Violation\\u002fUse of Mobile Phone\",\"Junction\\u002fY\",\"Impacting Vehicle\\u002fObject\\u002fAuto Rickshaws\",\"Impacting Vehicle\\u002fObject\\u002fBicycles\",\"Road Features\\u002fBridge\",\"Impacting Vehicle\\u002fObject\\u002fBuses\",\"Impacting Vehicle\\u002fObject\\u002fCars, Taxis, Vans and LMV\",\"Road Features\\u002fCulvert\",\"Road Features\\u002fCurved Road\",\"Traffic Violation\\u002fDriving on Wrong side\",\"Traffic Violation\\u002fDrunken Driving\\u002f Consumption of alcohol and drug\",\"Traffic Control\\u002fFlashing Signal\\u002fBlinker\",\"Weather\\u002fFoggy and Misty\",\"Junction\\u002fFour arm Junction\",\"Weather\\u002fHail\\u002fSleet\",\"Traffic Violation\\u002fJumping Red Light\",\"Road Features\\u002fOngoing Road Works\\u002fUnder Construction\",\"Impacting Vehicle\\u002fObject\\u002fOther Non\",\"Impacting Vehicle\\u002fObject\\u002fOthers\",\"Junction\\u002fOthers\",\"Road Features\\u002fOthers\",\"Traffic Control\\u002fOthers\",\"Traffic Violation\\u002fOthers\",\"Weather\\u002fOthers\",\"Traffic Violation\\u002fOver\",\"Impacting Vehicle\\u002fObject\\u002fPedestrian\",\"Traffic Control\\u002fPolice Controlled\",\"Road Features\\u002fPot Holes\",\"Weather\\u002fRainy\",\"Junction\\u002fRound about Junction\",\"Junction\\u002fStaggered Junction\",\"Road Features\\u002fSteep Grade\",\"Traffic Control\\u002fStop Sign\",\"Road Features\\u002fStraight Road\",\"Weather\\u002fSunny\\u002fClear\",\"Junction\\u002fT\",\"Traffic Control\\u002fTraffic Light Signal\",\"Impacting Vehicle\\u002fObject\\u002fTrucks\\u002fLorries\",\"Impacting Vehicle\\u002fObject\\u002fTwo Wheelers\",\"Traffic Control\\u002fUncontrolled\",\"Traffic Violation\\u002fUse of Mobile Phone\",\"Junction\\u002fY\",\"Impacting Vehicle\\u002fObject\\u002fAuto Rickshaws\",\"Impacting Vehicle\\u002fObject\\u002fBicycles\",\"Road Features\\u002fBridge\",\"Impacting Vehicle\\u002fObject\\u002fBuses\",\"Impacting Vehicle\\u002fObject\\u002fCars, Taxis, Vans and LMV\",\"Road Features\\u002fCulvert\",\"Road Features\\u002fCurved Road\",\"Traffic Violation\\u002fDriving on Wrong side\",\"Traffic Violation\\u002fDrunken Driving\\u002f Consumption of alcohol and drug\",\"Traffic Control\\u002fFlashing Signal\\u002fBlinker\",\"Weather\\u002fFoggy and Misty\",\"Junction\\u002fFour arm Junction\",\"Weather\\u002fHail\\u002fSleet\",\"Traffic Violation\\u002fJumping Red Light\",\"Road Features\\u002fOngoing Road Works\\u002fUnder Construction\",\"Impacting Vehicle\\u002fObject\\u002fOther Non\",\"Impacting Vehicle\\u002fObject\\u002fOthers\",\"Junction\\u002fOthers\",\"Road Features\\u002fOthers\",\"Traffic Control\\u002fOthers\",\"Traffic Violation\\u002fOthers\",\"Weather\\u002fOthers\",\"Traffic Violation\\u002fOver\",\"Impacting Vehicle\\u002fObject\\u002fPedestrian\",\"Traffic Control\\u002fPolice Controlled\",\"Road Features\\u002fPot Holes\",\"Weather\\u002fRainy\",\"Junction\\u002fRound about Junction\",\"Junction\\u002fStaggered Junction\",\"Road Features\\u002fSteep Grade\",\"Traffic Control\\u002fStop Sign\",\"Road Features\\u002fStraight Road\",\"Weather\\u002fSunny\\u002fClear\",\"Junction\\u002fT\",\"Traffic Control\\u002fTraffic Light Signal\",\"Impacting Vehicle\\u002fObject\\u002fTrucks\\u002fLorries\",\"Impacting Vehicle\\u002fObject\\u002fTwo Wheelers\",\"Traffic Control\\u002fUncontrolled\",\"Traffic Violation\\u002fUse of Mobile Phone\",\"Junction\\u002fY\",\"Road Features\\u002fBridge\",\"Road Features\\u002fCulvert\",\"Road Features\\u002fCurved Road\",\"Traffic Violation\\u002fDriving on Wrong side\",\"Traffic Violation\\u002fDrunken Driving\\u002f Consumption of alcohol and drug\",\"Traffic Control\\u002fFlashing Signal\\u002fBlinker\",\"Weather\\u002fFoggy and Misty\",\"Junction\\u002fFour arm Junction\",\"Weather\\u002fHail\\u002fSleet\",\"Traffic Violation\\u002fJumping Red Light\",\"Road Features\\u002fOngoing Road Works\\u002fUnder Construction\",\"Junction\\u002fOthers\",\"Road Features\\u002fOthers\",\"Traffic Control\\u002fOthers\",\"Traffic Violation\\u002fOthers\",\"Weather\\u002fOthers\",\"Traffic Violation\\u002fOver\",\"Traffic Control\\u002fPolice Controlled\",\"Road Features\\u002fPot Holes\",\"Weather\\u002fRainy\",\"Junction\\u002fRound about Junction\",\"Junction\\u002fStaggered Junction\",\"Road Features\\u002fSteep Grade\",\"Traffic Control\\u002fStop Sign\",\"Road Features\\u002fStraight Road\",\"Weather\\u002fSunny\\u002fClear\",\"Junction\\u002fT\",\"Traffic Control\\u002fTraffic Light Signal\",\"Traffic Control\\u002fUncontrolled\",\"Traffic Violation\\u002fUse of Mobile Phone\",\"Junction\\u002fY\",\"Impacting Vehicle\\u002fObject\\u002fAuto Rickshaws\",\"Impacting Vehicle\\u002fObject\\u002fBicycles\",\"Road Features\\u002fBridge\",\"Impacting Vehicle\\u002fObject\\u002fBuses\",\"Impacting Vehicle\\u002fObject\\u002fCars, Taxis, Vans and LMV\",\"Road Features\\u002fCulvert\",\"Road Features\\u002fCurved Road\",\"Traffic Violation\\u002fDriving on Wrong side\",\"Traffic Violation\\u002fDrunken Driving\\u002f Consumption of alcohol and drug\",\"Traffic Control\\u002fFlashing Signal\\u002fBlinker\",\"Weather\\u002fFoggy and Misty\",\"Junction\\u002fFour arm Junction\",\"Weather\\u002fHail\\u002fSleet\",\"Traffic Violation\\u002fJumping Red Light\",\"Road Features\\u002fOngoing Road Works\\u002fUnder Construction\",\"Impacting Vehicle\\u002fObject\\u002fOther Non\",\"Impacting Vehicle\\u002fObject\\u002fOthers\",\"Junction\\u002fOthers\",\"Road Features\\u002fOthers\",\"Traffic Control\\u002fOthers\",\"Traffic Violation\\u002fOthers\",\"Weather\\u002fOthers\",\"Traffic Violation\\u002fOver\",\"Impacting Vehicle\\u002fObject\\u002fPedestrian\",\"Traffic Control\\u002fPolice Controlled\",\"Road Features\\u002fPot Holes\",\"Weather\\u002fRainy\",\"Junction\\u002fRound about Junction\",\"Junction\\u002fStaggered Junction\",\"Road Features\\u002fSteep Grade\",\"Traffic Control\\u002fStop Sign\",\"Road Features\\u002fStraight Road\",\"Weather\\u002fSunny\\u002fClear\",\"Junction\\u002fT\",\"Traffic Control\\u002fTraffic Light Signal\",\"Impacting Vehicle\\u002fObject\\u002fTrucks\\u002fLorries\",\"Impacting Vehicle\\u002fObject\\u002fTwo Wheelers\",\"Traffic Control\\u002fUncontrolled\",\"Traffic Violation\\u002fUse of Mobile Phone\",\"Junction\\u002fY\",\"Impacting Vehicle\\u002fObject\",\"Impacting Vehicle\\u002fObject\",\"Road Features\",\"Impacting Vehicle\\u002fObject\",\"Impacting Vehicle\\u002fObject\",\"Road Features\",\"Road Features\",\"Traffic Violation\",\"Traffic Violation\",\"Traffic Control\",\"Weather\",\"Junction\",\"Weather\",\"Traffic Violation\",\"Road Features\",\"Impacting Vehicle\\u002fObject\",\"Impacting Vehicle\\u002fObject\",\"Junction\",\"Road Features\",\"Traffic Control\",\"Traffic Violation\",\"Weather\",\"Traffic Violation\",\"Impacting Vehicle\\u002fObject\",\"Traffic Control\",\"Road Features\",\"Weather\",\"Junction\",\"Junction\",\"Road Features\",\"Traffic Control\",\"Road Features\",\"Weather\",\"Junction\",\"Traffic Control\",\"Impacting Vehicle\\u002fObject\",\"Impacting Vehicle\\u002fObject\",\"Traffic Control\",\"Traffic Violation\",\"Junction\",\"\",\"\",\"\",\"\",\"\",\"\"],\"values\":[1318.0,498.0,647.0,514.0,2815.0,284.0,1863.0,660.0,343.0,600.0,1250.0,1746.0,291.0,259.0,592.0,219.0,611.0,12067.0,2741.0,12067.0,4244.0,1491.0,14643.0,4005.0,939.0,170.0,1467.0,695.0,2146.0,215.0,389.0,14020.0,16033.0,2810.0,1216.0,708.0,9844.0,5321.0,383.0,1068.0,1859.0,668.0,1578.0,962.0,4008.0,558.0,3127.0,1240.0,901.0,1028.0,1508.0,2650.0,263.0,741.0,658.0,470.0,2253.0,15779.0,6663.0,15779.0,5013.0,3431.0,21592.0,4977.0,1079.0,432.0,3144.0,1693.0,3610.0,688.0,842.0,16279.0,21637.0,4170.0,1727.0,1020.0,13766.0,9528.0,496.0,2081.0,530.0,654.0,845.5,355.0,1465.0,262.0,1242.75,659.0,390.0,531.0,1176.0,1081.0,317.0,288.0,541.75,283.0,980.0,8273.0,2220.0,8273.0,2833.0,2071.0,9003.0,2818.0,481.0,196.0,1178.0,589.0,1064.0,214.0,346.0,8020.0,8800.0,1617.0,578.0,750.0,5707.0,3333.0,369.0,918.0,2225.0,842.0,4990.0,1900.0,1244.0,1628.0,2758.0,4396.0,554.0,1000.0,1250.0,27846.0,9404.0,27846.0,9257.0,4922.0,36235.0,2018.0,602.0,4611.0,2388.0,5756.0,903.0,1231.0,30299.0,37670.0,6980.0,2943.0,14849.0,879.0,3149.0,3184.0,1652.0,2732.0,1639.0,8975.0,992.0,5512.0,2272.0,1477.0,1882.0,3634.0,5441.0,768.0,1099.0,1643.0,847.0,3900.0,32597.0,10578.0,32551.0,11247.0,6549.0,41540.0,10389.0,2301.0,705.0,5021.0,2710.0,6334.0,969.0,1582.0,35605.0,42764.0,7978.0,3450.0,3111.0,25039.0,16970.0,1101.0,3676.0,6891.0,3472.0,8027.5,3470.0,17263.0,2938.0,16734.75,6731.0,4355.0,5669.0,10326.0,15314.0,2193.0,3387.0,4684.75,1819.0,7744.0,96562.0,31606.0,96516.0,32594.0,18464.0,123013.0,22189.0,6818.0,2105.0,15421.0,8075.0,18910.0,2989.0,4390.0,104223.0,126904.0,23555.0,9914.0,5589.0,54356.0,50001.0,3228.0,10892.0,122793.0,173308.0,173308.0,173308.0,173308.0,173308.0],\"type\":\"sunburst\"}],                        {\"template\":{\"data\":{\"histogram2dcontour\":[{\"type\":\"histogram2dcontour\",\"colorbar\":{\"outlinewidth\":0,\"ticks\":\"\"},\"colorscale\":[[0.0,\"#0d0887\"],[0.1111111111111111,\"#46039f\"],[0.2222222222222222,\"#7201a8\"],[0.3333333333333333,\"#9c179e\"],[0.4444444444444444,\"#bd3786\"],[0.5555555555555556,\"#d8576b\"],[0.6666666666666666,\"#ed7953\"],[0.7777777777777778,\"#fb9f3a\"],[0.8888888888888888,\"#fdca26\"],[1.0,\"#f0f921\"]]}],\"choropleth\":[{\"type\":\"choropleth\",\"colorbar\":{\"outlinewidth\":0,\"ticks\":\"\"}}],\"histogram2d\":[{\"type\":\"histogram2d\",\"colorbar\":{\"outlinewidth\":0,\"ticks\":\"\"},\"colorscale\":[[0.0,\"#0d0887\"],[0.1111111111111111,\"#46039f\"],[0.2222222222222222,\"#7201a8\"],[0.3333333333333333,\"#9c179e\"],[0.4444444444444444,\"#bd3786\"],[0.5555555555555556,\"#d8576b\"],[0.6666666666666666,\"#ed7953\"],[0.7777777777777778,\"#fb9f3a\"],[0.8888888888888888,\"#fdca26\"],[1.0,\"#f0f921\"]]}],\"heatmap\":[{\"type\":\"heatmap\",\"colorbar\":{\"outlinewidth\":0,\"ticks\":\"\"},\"colorscale\":[[0.0,\"#0d0887\"],[0.1111111111111111,\"#46039f\"],[0.2222222222222222,\"#7201a8\"],[0.3333333333333333,\"#9c179e\"],[0.4444444444444444,\"#bd3786\"],[0.5555555555555556,\"#d8576b\"],[0.6666666666666666,\"#ed7953\"],[0.7777777777777778,\"#fb9f3a\"],[0.8888888888888888,\"#fdca26\"],[1.0,\"#f0f921\"]]}],\"heatmapgl\":[{\"type\":\"heatmapgl\",\"colorbar\":{\"outlinewidth\":0,\"ticks\":\"\"},\"colorscale\":[[0.0,\"#0d0887\"],[0.1111111111111111,\"#46039f\"],[0.2222222222222222,\"#7201a8\"],[0.3333333333333333,\"#9c179e\"],[0.4444444444444444,\"#bd3786\"],[0.5555555555555556,\"#d8576b\"],[0.6666666666666666,\"#ed7953\"],[0.7777777777777778,\"#fb9f3a\"],[0.8888888888888888,\"#fdca26\"],[1.0,\"#f0f921\"]]}],\"contourcarpet\":[{\"type\":\"contourcarpet\",\"colorbar\":{\"outlinewidth\":0,\"ticks\":\"\"}}],\"contour\":[{\"type\":\"contour\",\"colorbar\":{\"outlinewidth\":0,\"ticks\":\"\"},\"colorscale\":[[0.0,\"#0d0887\"],[0.1111111111111111,\"#46039f\"],[0.2222222222222222,\"#7201a8\"],[0.3333333333333333,\"#9c179e\"],[0.4444444444444444,\"#bd3786\"],[0.5555555555555556,\"#d8576b\"],[0.6666666666666666,\"#ed7953\"],[0.7777777777777778,\"#fb9f3a\"],[0.8888888888888888,\"#fdca26\"],[1.0,\"#f0f921\"]]}],\"surface\":[{\"type\":\"surface\",\"colorbar\":{\"outlinewidth\":0,\"ticks\":\"\"},\"colorscale\":[[0.0,\"#0d0887\"],[0.1111111111111111,\"#46039f\"],[0.2222222222222222,\"#7201a8\"],[0.3333333333333333,\"#9c179e\"],[0.4444444444444444,\"#bd3786\"],[0.5555555555555556,\"#d8576b\"],[0.6666666666666666,\"#ed7953\"],[0.7777777777777778,\"#fb9f3a\"],[0.8888888888888888,\"#fdca26\"],[1.0,\"#f0f921\"]]}],\"mesh3d\":[{\"type\":\"mesh3d\",\"colorbar\":{\"outlinewidth\":0,\"ticks\":\"\"}}],\"scatter\":[{\"fillpattern\":{\"fillmode\":\"overlay\",\"size\":10,\"solidity\":0.2},\"type\":\"scatter\"}],\"parcoords\":[{\"type\":\"parcoords\",\"line\":{\"colorbar\":{\"outlinewidth\":0,\"ticks\":\"\"}}}],\"scatterpolargl\":[{\"type\":\"scatterpolargl\",\"marker\":{\"colorbar\":{\"outlinewidth\":0,\"ticks\":\"\"}}}],\"bar\":[{\"error_x\":{\"color\":\"#2a3f5f\"},\"error_y\":{\"color\":\"#2a3f5f\"},\"marker\":{\"line\":{\"color\":\"#E5ECF6\",\"width\":0.5},\"pattern\":{\"fillmode\":\"overlay\",\"size\":10,\"solidity\":0.2}},\"type\":\"bar\"}],\"scattergeo\":[{\"type\":\"scattergeo\",\"marker\":{\"colorbar\":{\"outlinewidth\":0,\"ticks\":\"\"}}}],\"scatterpolar\":[{\"type\":\"scatterpolar\",\"marker\":{\"colorbar\":{\"outlinewidth\":0,\"ticks\":\"\"}}}],\"histogram\":[{\"marker\":{\"pattern\":{\"fillmode\":\"overlay\",\"size\":10,\"solidity\":0.2}},\"type\":\"histogram\"}],\"scattergl\":[{\"type\":\"scattergl\",\"marker\":{\"colorbar\":{\"outlinewidth\":0,\"ticks\":\"\"}}}],\"scatter3d\":[{\"type\":\"scatter3d\",\"line\":{\"colorbar\":{\"outlinewidth\":0,\"ticks\":\"\"}},\"marker\":{\"colorbar\":{\"outlinewidth\":0,\"ticks\":\"\"}}}],\"scattermapbox\":[{\"type\":\"scattermapbox\",\"marker\":{\"colorbar\":{\"outlinewidth\":0,\"ticks\":\"\"}}}],\"scatterternary\":[{\"type\":\"scatterternary\",\"marker\":{\"colorbar\":{\"outlinewidth\":0,\"ticks\":\"\"}}}],\"scattercarpet\":[{\"type\":\"scattercarpet\",\"marker\":{\"colorbar\":{\"outlinewidth\":0,\"ticks\":\"\"}}}],\"carpet\":[{\"aaxis\":{\"endlinecolor\":\"#2a3f5f\",\"gridcolor\":\"white\",\"linecolor\":\"white\",\"minorgridcolor\":\"white\",\"startlinecolor\":\"#2a3f5f\"},\"baxis\":{\"endlinecolor\":\"#2a3f5f\",\"gridcolor\":\"white\",\"linecolor\":\"white\",\"minorgridcolor\":\"white\",\"startlinecolor\":\"#2a3f5f\"},\"type\":\"carpet\"}],\"table\":[{\"cells\":{\"fill\":{\"color\":\"#EBF0F8\"},\"line\":{\"color\":\"white\"}},\"header\":{\"fill\":{\"color\":\"#C8D4E3\"},\"line\":{\"color\":\"white\"}},\"type\":\"table\"}],\"barpolar\":[{\"marker\":{\"line\":{\"color\":\"#E5ECF6\",\"width\":0.5},\"pattern\":{\"fillmode\":\"overlay\",\"size\":10,\"solidity\":0.2}},\"type\":\"barpolar\"}],\"pie\":[{\"automargin\":true,\"type\":\"pie\"}]},\"layout\":{\"autotypenumbers\":\"strict\",\"colorway\":[\"#636efa\",\"#EF553B\",\"#00cc96\",\"#ab63fa\",\"#FFA15A\",\"#19d3f3\",\"#FF6692\",\"#B6E880\",\"#FF97FF\",\"#FECB52\"],\"font\":{\"color\":\"#2a3f5f\"},\"hovermode\":\"closest\",\"hoverlabel\":{\"align\":\"left\"},\"paper_bgcolor\":\"white\",\"plot_bgcolor\":\"#E5ECF6\",\"polar\":{\"bgcolor\":\"#E5ECF6\",\"angularaxis\":{\"gridcolor\":\"white\",\"linecolor\":\"white\",\"ticks\":\"\"},\"radialaxis\":{\"gridcolor\":\"white\",\"linecolor\":\"white\",\"ticks\":\"\"}},\"ternary\":{\"bgcolor\":\"#E5ECF6\",\"aaxis\":{\"gridcolor\":\"white\",\"linecolor\":\"white\",\"ticks\":\"\"},\"baxis\":{\"gridcolor\":\"white\",\"linecolor\":\"white\",\"ticks\":\"\"},\"caxis\":{\"gridcolor\":\"white\",\"linecolor\":\"white\",\"ticks\":\"\"}},\"coloraxis\":{\"colorbar\":{\"outlinewidth\":0,\"ticks\":\"\"}},\"colorscale\":{\"sequential\":[[0.0,\"#0d0887\"],[0.1111111111111111,\"#46039f\"],[0.2222222222222222,\"#7201a8\"],[0.3333333333333333,\"#9c179e\"],[0.4444444444444444,\"#bd3786\"],[0.5555555555555556,\"#d8576b\"],[0.6666666666666666,\"#ed7953\"],[0.7777777777777778,\"#fb9f3a\"],[0.8888888888888888,\"#fdca26\"],[1.0,\"#f0f921\"]],\"sequentialminus\":[[0.0,\"#0d0887\"],[0.1111111111111111,\"#46039f\"],[0.2222222222222222,\"#7201a8\"],[0.3333333333333333,\"#9c179e\"],[0.4444444444444444,\"#bd3786\"],[0.5555555555555556,\"#d8576b\"],[0.6666666666666666,\"#ed7953\"],[0.7777777777777778,\"#fb9f3a\"],[0.8888888888888888,\"#fdca26\"],[1.0,\"#f0f921\"]],\"diverging\":[[0,\"#8e0152\"],[0.1,\"#c51b7d\"],[0.2,\"#de77ae\"],[0.3,\"#f1b6da\"],[0.4,\"#fde0ef\"],[0.5,\"#f7f7f7\"],[0.6,\"#e6f5d0\"],[0.7,\"#b8e186\"],[0.8,\"#7fbc41\"],[0.9,\"#4d9221\"],[1,\"#276419\"]]},\"xaxis\":{\"gridcolor\":\"white\",\"linecolor\":\"white\",\"ticks\":\"\",\"title\":{\"standoff\":15},\"zerolinecolor\":\"white\",\"automargin\":true,\"zerolinewidth\":2},\"yaxis\":{\"gridcolor\":\"white\",\"linecolor\":\"white\",\"ticks\":\"\",\"title\":{\"standoff\":15},\"zerolinecolor\":\"white\",\"automargin\":true,\"zerolinewidth\":2},\"scene\":{\"xaxis\":{\"backgroundcolor\":\"#E5ECF6\",\"gridcolor\":\"white\",\"linecolor\":\"white\",\"showbackground\":true,\"ticks\":\"\",\"zerolinecolor\":\"white\",\"gridwidth\":2},\"yaxis\":{\"backgroundcolor\":\"#E5ECF6\",\"gridcolor\":\"white\",\"linecolor\":\"white\",\"showbackground\":true,\"ticks\":\"\",\"zerolinecolor\":\"white\",\"gridwidth\":2},\"zaxis\":{\"backgroundcolor\":\"#E5ECF6\",\"gridcolor\":\"white\",\"linecolor\":\"white\",\"showbackground\":true,\"ticks\":\"\",\"zerolinecolor\":\"white\",\"gridwidth\":2}},\"shapedefaults\":{\"line\":{\"color\":\"#2a3f5f\"}},\"annotationdefaults\":{\"arrowcolor\":\"#2a3f5f\",\"arrowhead\":0,\"arrowwidth\":1},\"geo\":{\"bgcolor\":\"white\",\"landcolor\":\"#E5ECF6\",\"subunitcolor\":\"white\",\"showland\":true,\"showlakes\":true,\"lakecolor\":\"white\"},\"title\":{\"x\":0.05},\"mapbox\":{\"style\":\"light\"}}},\"legend\":{\"tracegroupgap\":0},\"title\":{\"text\":\"Sunburst Cause and Outcomes\"}},                        {\"responsive\": true}                    ).then(function(){\n",
       "                            \n",
       "var gd = document.getElementById('a35e8b06-87f2-42e4-bcac-63f6930a61fe');\n",
       "var x = new MutationObserver(function (mutations, observer) {{\n",
       "        var display = window.getComputedStyle(gd).display;\n",
       "        if (!display || display === 'none') {{\n",
       "            console.log([gd, 'removed!']);\n",
       "            Plotly.purge(gd);\n",
       "            observer.disconnect();\n",
       "        }}\n",
       "}});\n",
       "\n",
       "// Listen for the removal of the full notebook cells\n",
       "var notebookContainer = gd.closest('#notebook-container');\n",
       "if (notebookContainer) {{\n",
       "    x.observe(notebookContainer, {childList: true});\n",
       "}}\n",
       "\n",
       "// Listen for the clearing of the current output cell\n",
       "var outputEl = gd.closest('.output');\n",
       "if (outputEl) {{\n",
       "    x.observe(outputEl, {childList: true});\n",
       "}}\n",
       "\n",
       "                        })                };                });            </script>        </div>"
      ]
     },
     "metadata": {},
     "output_type": "display_data"
    }
   ],
   "source": [
    "#Sunburst Chart for Cause Category\n",
    "fig=px.sunburst(df,path=[\"Cause category\",\"Cause Subcategory\",\"Outcome of Incident\"],values=\"Count\",title=\"Sunburst Cause and Outcomes\")\n",
    "fig.show()"
   ]
  },
  {
   "cell_type": "code",
   "execution_count": 134,
   "id": "2949650d-8f68-4d54-bbe6-65515d9afcbb",
   "metadata": {},
   "outputs": [
    {
     "data": {
      "application/vnd.plotly.v1+json": {
       "config": {
        "plotlyServerURL": "https://plot.ly"
       },
       "data": [
        {
         "branchvalues": "total",
         "domain": {
          "x": [
           0,
           1
          ],
          "y": [
           0,
           1
          ]
         },
         "hovertemplate": "labels=%{label}<br>Count=%{value}<br>parent=%{parent}<br>id=%{id}<extra></extra>",
         "ids": [
          "Impacting Vehicle/Object/Auto Rickshaws",
          "Impacting Vehicle/Object/Bicycles",
          "Road Features/Bridge",
          "Impacting Vehicle/Object/Buses",
          "Impacting Vehicle/Object/Cars, Taxis, Vans and LMV",
          "Road Features/Culvert",
          "Road Features/Curved Road",
          "Traffic Violation/Driving on Wrong side",
          "Traffic Violation/Drunken Driving/ Consumption of alcohol and drug",
          "Traffic Control/Flashing Signal/Blinker",
          "Weather/Foggy and Misty",
          "Junction/Four arm Junction",
          "Weather/Hail/Sleet",
          "Traffic Violation/Jumping Red Light",
          "Road Features/Ongoing Road Works/Under Construction",
          "Impacting Vehicle/Object/Other Non",
          "Impacting Vehicle/Object/Others",
          "Junction/Others",
          "Road Features/Others",
          "Traffic Control/Others",
          "Traffic Violation/Others",
          "Weather/Others",
          "Traffic Violation/Over",
          "Impacting Vehicle/Object/Pedestrian",
          "Traffic Control/Police Controlled",
          "Road Features/Pot Holes",
          "Weather/Rainy",
          "Junction/Round about Junction",
          "Junction/Staggered Junction",
          "Road Features/Steep Grade",
          "Traffic Control/Stop Sign",
          "Road Features/Straight Road",
          "Weather/Sunny/Clear",
          "Junction/T",
          "Traffic Control/Traffic Light Signal",
          "Impacting Vehicle/Object/Trucks/Lorries",
          "Impacting Vehicle/Object/Two Wheelers",
          "Traffic Control/Uncontrolled",
          "Traffic Violation/Use of Mobile Phone",
          "Junction/Y",
          "Impacting Vehicle/Object",
          "Junction",
          "Road Features",
          "Traffic Control",
          "Traffic Violation",
          "Weather"
         ],
         "labels": [
          "Auto Rickshaws",
          "Bicycles",
          "Bridge",
          "Buses",
          "Cars, Taxis, Vans and LMV",
          "Culvert",
          "Curved Road",
          "Driving on Wrong side",
          "Drunken Driving/ Consumption of alcohol and drug",
          "Flashing Signal/Blinker",
          "Foggy and Misty",
          "Four arm Junction",
          "Hail/Sleet",
          "Jumping Red Light",
          "Ongoing Road Works/Under Construction",
          "Other Non",
          "Others",
          "Others",
          "Others",
          "Others",
          "Others",
          "Others",
          "Over",
          "Pedestrian",
          "Police Controlled",
          "Pot Holes",
          "Rainy",
          "Round about Junction",
          "Staggered Junction",
          "Steep Grade",
          "Stop Sign",
          "Straight Road",
          "Sunny/Clear",
          "T",
          "Traffic Light Signal",
          "Trucks/Lorries",
          "Two Wheelers",
          "Uncontrolled",
          "Use of Mobile Phone",
          "Y",
          "Impacting Vehicle/Object",
          "Junction",
          "Road Features",
          "Traffic Control",
          "Traffic Violation",
          "Weather"
         ],
         "name": "",
         "parents": [
          "Impacting Vehicle/Object",
          "Impacting Vehicle/Object",
          "Road Features",
          "Impacting Vehicle/Object",
          "Impacting Vehicle/Object",
          "Road Features",
          "Road Features",
          "Traffic Violation",
          "Traffic Violation",
          "Traffic Control",
          "Weather",
          "Junction",
          "Weather",
          "Traffic Violation",
          "Road Features",
          "Impacting Vehicle/Object",
          "Impacting Vehicle/Object",
          "Junction",
          "Road Features",
          "Traffic Control",
          "Traffic Violation",
          "Weather",
          "Traffic Violation",
          "Impacting Vehicle/Object",
          "Traffic Control",
          "Road Features",
          "Weather",
          "Junction",
          "Junction",
          "Road Features",
          "Traffic Control",
          "Road Features",
          "Weather",
          "Junction",
          "Traffic Control",
          "Impacting Vehicle/Object",
          "Impacting Vehicle/Object",
          "Traffic Control",
          "Traffic Violation",
          "Junction",
          "",
          "",
          "",
          "",
          "",
          ""
         ],
         "type": "treemap",
         "values": [
          6891,
          3472,
          8027.5,
          3470,
          17263,
          2938,
          16734.75,
          6731,
          4355,
          5669,
          10326,
          15314,
          2193,
          3387,
          4684.75,
          1819,
          7744,
          96562,
          31606,
          96516,
          32594,
          18464,
          123013,
          22189,
          6818,
          2105,
          15421,
          8075,
          18910,
          2989,
          4390,
          104223,
          126904,
          23555,
          9914,
          5589,
          54356,
          50001,
          3228,
          10892,
          122793,
          173308,
          173308,
          173308,
          173308,
          173308
         ]
        }
       ],
       "layout": {
        "autosize": true,
        "legend": {
         "tracegroupgap": 0
        },
        "template": {
         "data": {
          "bar": [
           {
            "error_x": {
             "color": "#2a3f5f"
            },
            "error_y": {
             "color": "#2a3f5f"
            },
            "marker": {
             "line": {
              "color": "#E5ECF6",
              "width": 0.5
             },
             "pattern": {
              "fillmode": "overlay",
              "size": 10,
              "solidity": 0.2
             }
            },
            "type": "bar"
           }
          ],
          "barpolar": [
           {
            "marker": {
             "line": {
              "color": "#E5ECF6",
              "width": 0.5
             },
             "pattern": {
              "fillmode": "overlay",
              "size": 10,
              "solidity": 0.2
             }
            },
            "type": "barpolar"
           }
          ],
          "carpet": [
           {
            "aaxis": {
             "endlinecolor": "#2a3f5f",
             "gridcolor": "white",
             "linecolor": "white",
             "minorgridcolor": "white",
             "startlinecolor": "#2a3f5f"
            },
            "baxis": {
             "endlinecolor": "#2a3f5f",
             "gridcolor": "white",
             "linecolor": "white",
             "minorgridcolor": "white",
             "startlinecolor": "#2a3f5f"
            },
            "type": "carpet"
           }
          ],
          "choropleth": [
           {
            "colorbar": {
             "outlinewidth": 0,
             "ticks": ""
            },
            "type": "choropleth"
           }
          ],
          "contour": [
           {
            "colorbar": {
             "outlinewidth": 0,
             "ticks": ""
            },
            "colorscale": [
             [
              0,
              "#0d0887"
             ],
             [
              0.1111111111111111,
              "#46039f"
             ],
             [
              0.2222222222222222,
              "#7201a8"
             ],
             [
              0.3333333333333333,
              "#9c179e"
             ],
             [
              0.4444444444444444,
              "#bd3786"
             ],
             [
              0.5555555555555556,
              "#d8576b"
             ],
             [
              0.6666666666666666,
              "#ed7953"
             ],
             [
              0.7777777777777778,
              "#fb9f3a"
             ],
             [
              0.8888888888888888,
              "#fdca26"
             ],
             [
              1,
              "#f0f921"
             ]
            ],
            "type": "contour"
           }
          ],
          "contourcarpet": [
           {
            "colorbar": {
             "outlinewidth": 0,
             "ticks": ""
            },
            "type": "contourcarpet"
           }
          ],
          "heatmap": [
           {
            "colorbar": {
             "outlinewidth": 0,
             "ticks": ""
            },
            "colorscale": [
             [
              0,
              "#0d0887"
             ],
             [
              0.1111111111111111,
              "#46039f"
             ],
             [
              0.2222222222222222,
              "#7201a8"
             ],
             [
              0.3333333333333333,
              "#9c179e"
             ],
             [
              0.4444444444444444,
              "#bd3786"
             ],
             [
              0.5555555555555556,
              "#d8576b"
             ],
             [
              0.6666666666666666,
              "#ed7953"
             ],
             [
              0.7777777777777778,
              "#fb9f3a"
             ],
             [
              0.8888888888888888,
              "#fdca26"
             ],
             [
              1,
              "#f0f921"
             ]
            ],
            "type": "heatmap"
           }
          ],
          "heatmapgl": [
           {
            "colorbar": {
             "outlinewidth": 0,
             "ticks": ""
            },
            "colorscale": [
             [
              0,
              "#0d0887"
             ],
             [
              0.1111111111111111,
              "#46039f"
             ],
             [
              0.2222222222222222,
              "#7201a8"
             ],
             [
              0.3333333333333333,
              "#9c179e"
             ],
             [
              0.4444444444444444,
              "#bd3786"
             ],
             [
              0.5555555555555556,
              "#d8576b"
             ],
             [
              0.6666666666666666,
              "#ed7953"
             ],
             [
              0.7777777777777778,
              "#fb9f3a"
             ],
             [
              0.8888888888888888,
              "#fdca26"
             ],
             [
              1,
              "#f0f921"
             ]
            ],
            "type": "heatmapgl"
           }
          ],
          "histogram": [
           {
            "marker": {
             "pattern": {
              "fillmode": "overlay",
              "size": 10,
              "solidity": 0.2
             }
            },
            "type": "histogram"
           }
          ],
          "histogram2d": [
           {
            "colorbar": {
             "outlinewidth": 0,
             "ticks": ""
            },
            "colorscale": [
             [
              0,
              "#0d0887"
             ],
             [
              0.1111111111111111,
              "#46039f"
             ],
             [
              0.2222222222222222,
              "#7201a8"
             ],
             [
              0.3333333333333333,
              "#9c179e"
             ],
             [
              0.4444444444444444,
              "#bd3786"
             ],
             [
              0.5555555555555556,
              "#d8576b"
             ],
             [
              0.6666666666666666,
              "#ed7953"
             ],
             [
              0.7777777777777778,
              "#fb9f3a"
             ],
             [
              0.8888888888888888,
              "#fdca26"
             ],
             [
              1,
              "#f0f921"
             ]
            ],
            "type": "histogram2d"
           }
          ],
          "histogram2dcontour": [
           {
            "colorbar": {
             "outlinewidth": 0,
             "ticks": ""
            },
            "colorscale": [
             [
              0,
              "#0d0887"
             ],
             [
              0.1111111111111111,
              "#46039f"
             ],
             [
              0.2222222222222222,
              "#7201a8"
             ],
             [
              0.3333333333333333,
              "#9c179e"
             ],
             [
              0.4444444444444444,
              "#bd3786"
             ],
             [
              0.5555555555555556,
              "#d8576b"
             ],
             [
              0.6666666666666666,
              "#ed7953"
             ],
             [
              0.7777777777777778,
              "#fb9f3a"
             ],
             [
              0.8888888888888888,
              "#fdca26"
             ],
             [
              1,
              "#f0f921"
             ]
            ],
            "type": "histogram2dcontour"
           }
          ],
          "mesh3d": [
           {
            "colorbar": {
             "outlinewidth": 0,
             "ticks": ""
            },
            "type": "mesh3d"
           }
          ],
          "parcoords": [
           {
            "line": {
             "colorbar": {
              "outlinewidth": 0,
              "ticks": ""
             }
            },
            "type": "parcoords"
           }
          ],
          "pie": [
           {
            "automargin": true,
            "type": "pie"
           }
          ],
          "scatter": [
           {
            "fillpattern": {
             "fillmode": "overlay",
             "size": 10,
             "solidity": 0.2
            },
            "type": "scatter"
           }
          ],
          "scatter3d": [
           {
            "line": {
             "colorbar": {
              "outlinewidth": 0,
              "ticks": ""
             }
            },
            "marker": {
             "colorbar": {
              "outlinewidth": 0,
              "ticks": ""
             }
            },
            "type": "scatter3d"
           }
          ],
          "scattercarpet": [
           {
            "marker": {
             "colorbar": {
              "outlinewidth": 0,
              "ticks": ""
             }
            },
            "type": "scattercarpet"
           }
          ],
          "scattergeo": [
           {
            "marker": {
             "colorbar": {
              "outlinewidth": 0,
              "ticks": ""
             }
            },
            "type": "scattergeo"
           }
          ],
          "scattergl": [
           {
            "marker": {
             "colorbar": {
              "outlinewidth": 0,
              "ticks": ""
             }
            },
            "type": "scattergl"
           }
          ],
          "scattermapbox": [
           {
            "marker": {
             "colorbar": {
              "outlinewidth": 0,
              "ticks": ""
             }
            },
            "type": "scattermapbox"
           }
          ],
          "scatterpolar": [
           {
            "marker": {
             "colorbar": {
              "outlinewidth": 0,
              "ticks": ""
             }
            },
            "type": "scatterpolar"
           }
          ],
          "scatterpolargl": [
           {
            "marker": {
             "colorbar": {
              "outlinewidth": 0,
              "ticks": ""
             }
            },
            "type": "scatterpolargl"
           }
          ],
          "scatterternary": [
           {
            "marker": {
             "colorbar": {
              "outlinewidth": 0,
              "ticks": ""
             }
            },
            "type": "scatterternary"
           }
          ],
          "surface": [
           {
            "colorbar": {
             "outlinewidth": 0,
             "ticks": ""
            },
            "colorscale": [
             [
              0,
              "#0d0887"
             ],
             [
              0.1111111111111111,
              "#46039f"
             ],
             [
              0.2222222222222222,
              "#7201a8"
             ],
             [
              0.3333333333333333,
              "#9c179e"
             ],
             [
              0.4444444444444444,
              "#bd3786"
             ],
             [
              0.5555555555555556,
              "#d8576b"
             ],
             [
              0.6666666666666666,
              "#ed7953"
             ],
             [
              0.7777777777777778,
              "#fb9f3a"
             ],
             [
              0.8888888888888888,
              "#fdca26"
             ],
             [
              1,
              "#f0f921"
             ]
            ],
            "type": "surface"
           }
          ],
          "table": [
           {
            "cells": {
             "fill": {
              "color": "#EBF0F8"
             },
             "line": {
              "color": "white"
             }
            },
            "header": {
             "fill": {
              "color": "#C8D4E3"
             },
             "line": {
              "color": "white"
             }
            },
            "type": "table"
           }
          ]
         },
         "layout": {
          "annotationdefaults": {
           "arrowcolor": "#2a3f5f",
           "arrowhead": 0,
           "arrowwidth": 1
          },
          "autotypenumbers": "strict",
          "coloraxis": {
           "colorbar": {
            "outlinewidth": 0,
            "ticks": ""
           }
          },
          "colorscale": {
           "diverging": [
            [
             0,
             "#8e0152"
            ],
            [
             0.1,
             "#c51b7d"
            ],
            [
             0.2,
             "#de77ae"
            ],
            [
             0.3,
             "#f1b6da"
            ],
            [
             0.4,
             "#fde0ef"
            ],
            [
             0.5,
             "#f7f7f7"
            ],
            [
             0.6,
             "#e6f5d0"
            ],
            [
             0.7,
             "#b8e186"
            ],
            [
             0.8,
             "#7fbc41"
            ],
            [
             0.9,
             "#4d9221"
            ],
            [
             1,
             "#276419"
            ]
           ],
           "sequential": [
            [
             0,
             "#0d0887"
            ],
            [
             0.1111111111111111,
             "#46039f"
            ],
            [
             0.2222222222222222,
             "#7201a8"
            ],
            [
             0.3333333333333333,
             "#9c179e"
            ],
            [
             0.4444444444444444,
             "#bd3786"
            ],
            [
             0.5555555555555556,
             "#d8576b"
            ],
            [
             0.6666666666666666,
             "#ed7953"
            ],
            [
             0.7777777777777778,
             "#fb9f3a"
            ],
            [
             0.8888888888888888,
             "#fdca26"
            ],
            [
             1,
             "#f0f921"
            ]
           ],
           "sequentialminus": [
            [
             0,
             "#0d0887"
            ],
            [
             0.1111111111111111,
             "#46039f"
            ],
            [
             0.2222222222222222,
             "#7201a8"
            ],
            [
             0.3333333333333333,
             "#9c179e"
            ],
            [
             0.4444444444444444,
             "#bd3786"
            ],
            [
             0.5555555555555556,
             "#d8576b"
            ],
            [
             0.6666666666666666,
             "#ed7953"
            ],
            [
             0.7777777777777778,
             "#fb9f3a"
            ],
            [
             0.8888888888888888,
             "#fdca26"
            ],
            [
             1,
             "#f0f921"
            ]
           ]
          },
          "colorway": [
           "#636efa",
           "#EF553B",
           "#00cc96",
           "#ab63fa",
           "#FFA15A",
           "#19d3f3",
           "#FF6692",
           "#B6E880",
           "#FF97FF",
           "#FECB52"
          ],
          "font": {
           "color": "#2a3f5f"
          },
          "geo": {
           "bgcolor": "white",
           "lakecolor": "white",
           "landcolor": "#E5ECF6",
           "showlakes": true,
           "showland": true,
           "subunitcolor": "white"
          },
          "hoverlabel": {
           "align": "left"
          },
          "hovermode": "closest",
          "mapbox": {
           "style": "light"
          },
          "paper_bgcolor": "white",
          "plot_bgcolor": "#E5ECF6",
          "polar": {
           "angularaxis": {
            "gridcolor": "white",
            "linecolor": "white",
            "ticks": ""
           },
           "bgcolor": "#E5ECF6",
           "radialaxis": {
            "gridcolor": "white",
            "linecolor": "white",
            "ticks": ""
           }
          },
          "scene": {
           "xaxis": {
            "backgroundcolor": "#E5ECF6",
            "gridcolor": "white",
            "gridwidth": 2,
            "linecolor": "white",
            "showbackground": true,
            "ticks": "",
            "zerolinecolor": "white"
           },
           "yaxis": {
            "backgroundcolor": "#E5ECF6",
            "gridcolor": "white",
            "gridwidth": 2,
            "linecolor": "white",
            "showbackground": true,
            "ticks": "",
            "zerolinecolor": "white"
           },
           "zaxis": {
            "backgroundcolor": "#E5ECF6",
            "gridcolor": "white",
            "gridwidth": 2,
            "linecolor": "white",
            "showbackground": true,
            "ticks": "",
            "zerolinecolor": "white"
           }
          },
          "shapedefaults": {
           "line": {
            "color": "#2a3f5f"
           }
          },
          "ternary": {
           "aaxis": {
            "gridcolor": "white",
            "linecolor": "white",
            "ticks": ""
           },
           "baxis": {
            "gridcolor": "white",
            "linecolor": "white",
            "ticks": ""
           },
           "bgcolor": "#E5ECF6",
           "caxis": {
            "gridcolor": "white",
            "linecolor": "white",
            "ticks": ""
           }
          },
          "title": {
           "x": 0.05
          },
          "xaxis": {
           "automargin": true,
           "gridcolor": "white",
           "linecolor": "white",
           "ticks": "",
           "title": {
            "standoff": 15
           },
           "zerolinecolor": "white",
           "zerolinewidth": 2
          },
          "yaxis": {
           "automargin": true,
           "gridcolor": "white",
           "linecolor": "white",
           "ticks": "",
           "title": {
            "standoff": 15
           },
           "zerolinecolor": "white",
           "zerolinewidth": 2
          }
         }
        },
        "title": {
         "text": "Treemap of Accident Cause"
        }
       }
      },
      "image/png": "[encoded data removed]",
      "text/html": [
       "<div>                            <div id=\"21bc8b55-fb4d-4ce7-ac1c-3ad05080fd19\" class=\"plotly-graph-div\" style=\"height:525px; width:100%;\"></div>            <script type=\"text/javascript\">                require([\"plotly\"], function(Plotly) {                    window.PLOTLYENV=window.PLOTLYENV || {};                                    if (document.getElementById(\"21bc8b55-fb4d-4ce7-ac1c-3ad05080fd19\")) {                    Plotly.newPlot(                        \"21bc8b55-fb4d-4ce7-ac1c-3ad05080fd19\",                        [{\"branchvalues\":\"total\",\"domain\":{\"x\":[0.0,1.0],\"y\":[0.0,1.0]},\"hovertemplate\":\"labels=%{label}\\u003cbr\\u003eCount=%{value}\\u003cbr\\u003eparent=%{parent}\\u003cbr\\u003eid=%{id}\\u003cextra\\u003e\\u003c\\u002fextra\\u003e\",\"ids\":[\"Impacting Vehicle\\u002fObject\\u002fAuto Rickshaws\",\"Impacting Vehicle\\u002fObject\\u002fBicycles\",\"Road Features\\u002fBridge\",\"Impacting Vehicle\\u002fObject\\u002fBuses\",\"Impacting Vehicle\\u002fObject\\u002fCars, Taxis, Vans and LMV\",\"Road Features\\u002fCulvert\",\"Road Features\\u002fCurved Road\",\"Traffic Violation\\u002fDriving on Wrong side\",\"Traffic Violation\\u002fDrunken Driving\\u002f Consumption of alcohol and drug\",\"Traffic Control\\u002fFlashing Signal\\u002fBlinker\",\"Weather\\u002fFoggy and Misty\",\"Junction\\u002fFour arm Junction\",\"Weather\\u002fHail\\u002fSleet\",\"Traffic Violation\\u002fJumping Red Light\",\"Road Features\\u002fOngoing Road Works\\u002fUnder Construction\",\"Impacting Vehicle\\u002fObject\\u002fOther Non\",\"Impacting Vehicle\\u002fObject\\u002fOthers\",\"Junction\\u002fOthers\",\"Road Features\\u002fOthers\",\"Traffic Control\\u002fOthers\",\"Traffic Violation\\u002fOthers\",\"Weather\\u002fOthers\",\"Traffic Violation\\u002fOver\",\"Impacting Vehicle\\u002fObject\\u002fPedestrian\",\"Traffic Control\\u002fPolice Controlled\",\"Road Features\\u002fPot Holes\",\"Weather\\u002fRainy\",\"Junction\\u002fRound about Junction\",\"Junction\\u002fStaggered Junction\",\"Road Features\\u002fSteep Grade\",\"Traffic Control\\u002fStop Sign\",\"Road Features\\u002fStraight Road\",\"Weather\\u002fSunny\\u002fClear\",\"Junction\\u002fT\",\"Traffic Control\\u002fTraffic Light Signal\",\"Impacting Vehicle\\u002fObject\\u002fTrucks\\u002fLorries\",\"Impacting Vehicle\\u002fObject\\u002fTwo Wheelers\",\"Traffic Control\\u002fUncontrolled\",\"Traffic Violation\\u002fUse of Mobile Phone\",\"Junction\\u002fY\",\"Impacting Vehicle\\u002fObject\",\"Junction\",\"Road Features\",\"Traffic Control\",\"Traffic Violation\",\"Weather\"],\"labels\":[\"Auto Rickshaws\",\"Bicycles\",\"Bridge\",\"Buses\",\"Cars, Taxis, Vans and LMV\",\"Culvert\",\"Curved Road\",\"Driving on Wrong side\",\"Drunken Driving\\u002f Consumption of alcohol and drug\",\"Flashing Signal\\u002fBlinker\",\"Foggy and Misty\",\"Four arm Junction\",\"Hail\\u002fSleet\",\"Jumping Red Light\",\"Ongoing Road Works\\u002fUnder Construction\",\"Other Non\",\"Others\",\"Others\",\"Others\",\"Others\",\"Others\",\"Others\",\"Over\",\"Pedestrian\",\"Police Controlled\",\"Pot Holes\",\"Rainy\",\"Round about Junction\",\"Staggered Junction\",\"Steep Grade\",\"Stop Sign\",\"Straight Road\",\"Sunny\\u002fClear\",\"T\",\"Traffic Light Signal\",\"Trucks\\u002fLorries\",\"Two Wheelers\",\"Uncontrolled\",\"Use of Mobile Phone\",\"Y\",\"Impacting Vehicle\\u002fObject\",\"Junction\",\"Road Features\",\"Traffic Control\",\"Traffic Violation\",\"Weather\"],\"name\":\"\",\"parents\":[\"Impacting Vehicle\\u002fObject\",\"Impacting Vehicle\\u002fObject\",\"Road Features\",\"Impacting Vehicle\\u002fObject\",\"Impacting Vehicle\\u002fObject\",\"Road Features\",\"Road Features\",\"Traffic Violation\",\"Traffic Violation\",\"Traffic Control\",\"Weather\",\"Junction\",\"Weather\",\"Traffic Violation\",\"Road Features\",\"Impacting Vehicle\\u002fObject\",\"Impacting Vehicle\\u002fObject\",\"Junction\",\"Road Features\",\"Traffic Control\",\"Traffic Violation\",\"Weather\",\"Traffic Violation\",\"Impacting Vehicle\\u002fObject\",\"Traffic Control\",\"Road Features\",\"Weather\",\"Junction\",\"Junction\",\"Road Features\",\"Traffic Control\",\"Road Features\",\"Weather\",\"Junction\",\"Traffic Control\",\"Impacting Vehicle\\u002fObject\",\"Impacting Vehicle\\u002fObject\",\"Traffic Control\",\"Traffic Violation\",\"Junction\",\"\",\"\",\"\",\"\",\"\",\"\"],\"values\":[6891.0,3472.0,8027.5,3470.0,17263.0,2938.0,16734.75,6731.0,4355.0,5669.0,10326.0,15314.0,2193.0,3387.0,4684.75,1819.0,7744.0,96562.0,31606.0,96516.0,32594.0,18464.0,123013.0,22189.0,6818.0,2105.0,15421.0,8075.0,18910.0,2989.0,4390.0,104223.0,126904.0,23555.0,9914.0,5589.0,54356.0,50001.0,3228.0,10892.0,122793.0,173308.0,173308.0,173308.0,173308.0,173308.0],\"type\":\"treemap\"}],                        {\"template\":{\"data\":{\"histogram2dcontour\":[{\"type\":\"histogram2dcontour\",\"colorbar\":{\"outlinewidth\":0,\"ticks\":\"\"},\"colorscale\":[[0.0,\"#0d0887\"],[0.1111111111111111,\"#46039f\"],[0.2222222222222222,\"#7201a8\"],[0.3333333333333333,\"#9c179e\"],[0.4444444444444444,\"#bd3786\"],[0.5555555555555556,\"#d8576b\"],[0.6666666666666666,\"#ed7953\"],[0.7777777777777778,\"#fb9f3a\"],[0.8888888888888888,\"#fdca26\"],[1.0,\"#f0f921\"]]}],\"choropleth\":[{\"type\":\"choropleth\",\"colorbar\":{\"outlinewidth\":0,\"ticks\":\"\"}}],\"histogram2d\":[{\"type\":\"histogram2d\",\"colorbar\":{\"outlinewidth\":0,\"ticks\":\"\"},\"colorscale\":[[0.0,\"#0d0887\"],[0.1111111111111111,\"#46039f\"],[0.2222222222222222,\"#7201a8\"],[0.3333333333333333,\"#9c179e\"],[0.4444444444444444,\"#bd3786\"],[0.5555555555555556,\"#d8576b\"],[0.6666666666666666,\"#ed7953\"],[0.7777777777777778,\"#fb9f3a\"],[0.8888888888888888,\"#fdca26\"],[1.0,\"#f0f921\"]]}],\"heatmap\":[{\"type\":\"heatmap\",\"colorbar\":{\"outlinewidth\":0,\"ticks\":\"\"},\"colorscale\":[[0.0,\"#0d0887\"],[0.1111111111111111,\"#46039f\"],[0.2222222222222222,\"#7201a8\"],[0.3333333333333333,\"#9c179e\"],[0.4444444444444444,\"#bd3786\"],[0.5555555555555556,\"#d8576b\"],[0.6666666666666666,\"#ed7953\"],[0.7777777777777778,\"#fb9f3a\"],[0.8888888888888888,\"#fdca26\"],[1.0,\"#f0f921\"]]}],\"heatmapgl\":[{\"type\":\"heatmapgl\",\"colorbar\":{\"outlinewidth\":0,\"ticks\":\"\"},\"colorscale\":[[0.0,\"#0d0887\"],[0.1111111111111111,\"#46039f\"],[0.2222222222222222,\"#7201a8\"],[0.3333333333333333,\"#9c179e\"],[0.4444444444444444,\"#bd3786\"],[0.5555555555555556,\"#d8576b\"],[0.6666666666666666,\"#ed7953\"],[0.7777777777777778,\"#fb9f3a\"],[0.8888888888888888,\"#fdca26\"],[1.0,\"#f0f921\"]]}],\"contourcarpet\":[{\"type\":\"contourcarpet\",\"colorbar\":{\"outlinewidth\":0,\"ticks\":\"\"}}],\"contour\":[{\"type\":\"contour\",\"colorbar\":{\"outlinewidth\":0,\"ticks\":\"\"},\"colorscale\":[[0.0,\"#0d0887\"],[0.1111111111111111,\"#46039f\"],[0.2222222222222222,\"#7201a8\"],[0.3333333333333333,\"#9c179e\"],[0.4444444444444444,\"#bd3786\"],[0.5555555555555556,\"#d8576b\"],[0.6666666666666666,\"#ed7953\"],[0.7777777777777778,\"#fb9f3a\"],[0.8888888888888888,\"#fdca26\"],[1.0,\"#f0f921\"]]}],\"surface\":[{\"type\":\"surface\",\"colorbar\":{\"outlinewidth\":0,\"ticks\":\"\"},\"colorscale\":[[0.0,\"#0d0887\"],[0.1111111111111111,\"#46039f\"],[0.2222222222222222,\"#7201a8\"],[0.3333333333333333,\"#9c179e\"],[0.4444444444444444,\"#bd3786\"],[0.5555555555555556,\"#d8576b\"],[0.6666666666666666,\"#ed7953\"],[0.7777777777777778,\"#fb9f3a\"],[0.8888888888888888,\"#fdca26\"],[1.0,\"#f0f921\"]]}],\"mesh3d\":[{\"type\":\"mesh3d\",\"colorbar\":{\"outlinewidth\":0,\"ticks\":\"\"}}],\"scatter\":[{\"fillpattern\":{\"fillmode\":\"overlay\",\"size\":10,\"solidity\":0.2},\"type\":\"scatter\"}],\"parcoords\":[{\"type\":\"parcoords\",\"line\":{\"colorbar\":{\"outlinewidth\":0,\"ticks\":\"\"}}}],\"scatterpolargl\":[{\"type\":\"scatterpolargl\",\"marker\":{\"colorbar\":{\"outlinewidth\":0,\"ticks\":\"\"}}}],\"bar\":[{\"error_x\":{\"color\":\"#2a3f5f\"},\"error_y\":{\"color\":\"#2a3f5f\"},\"marker\":{\"line\":{\"color\":\"#E5ECF6\",\"width\":0.5},\"pattern\":{\"fillmode\":\"overlay\",\"size\":10,\"solidity\":0.2}},\"type\":\"bar\"}],\"scattergeo\":[{\"type\":\"scattergeo\",\"marker\":{\"colorbar\":{\"outlinewidth\":0,\"ticks\":\"\"}}}],\"scatterpolar\":[{\"type\":\"scatterpolar\",\"marker\":{\"colorbar\":{\"outlinewidth\":0,\"ticks\":\"\"}}}],\"histogram\":[{\"marker\":{\"pattern\":{\"fillmode\":\"overlay\",\"size\":10,\"solidity\":0.2}},\"type\":\"histogram\"}],\"scattergl\":[{\"type\":\"scattergl\",\"marker\":{\"colorbar\":{\"outlinewidth\":0,\"ticks\":\"\"}}}],\"scatter3d\":[{\"type\":\"scatter3d\",\"line\":{\"colorbar\":{\"outlinewidth\":0,\"ticks\":\"\"}},\"marker\":{\"colorbar\":{\"outlinewidth\":0,\"ticks\":\"\"}}}],\"scattermapbox\":[{\"type\":\"scattermapbox\",\"marker\":{\"colorbar\":{\"outlinewidth\":0,\"ticks\":\"\"}}}],\"scatterternary\":[{\"type\":\"scatterternary\",\"marker\":{\"colorbar\":{\"outlinewidth\":0,\"ticks\":\"\"}}}],\"scattercarpet\":[{\"type\":\"scattercarpet\",\"marker\":{\"colorbar\":{\"outlinewidth\":0,\"ticks\":\"\"}}}],\"carpet\":[{\"aaxis\":{\"endlinecolor\":\"#2a3f5f\",\"gridcolor\":\"white\",\"linecolor\":\"white\",\"minorgridcolor\":\"white\",\"startlinecolor\":\"#2a3f5f\"},\"baxis\":{\"endlinecolor\":\"#2a3f5f\",\"gridcolor\":\"white\",\"linecolor\":\"white\",\"minorgridcolor\":\"white\",\"startlinecolor\":\"#2a3f5f\"},\"type\":\"carpet\"}],\"table\":[{\"cells\":{\"fill\":{\"color\":\"#EBF0F8\"},\"line\":{\"color\":\"white\"}},\"header\":{\"fill\":{\"color\":\"#C8D4E3\"},\"line\":{\"color\":\"white\"}},\"type\":\"table\"}],\"barpolar\":[{\"marker\":{\"line\":{\"color\":\"#E5ECF6\",\"width\":0.5},\"pattern\":{\"fillmode\":\"overlay\",\"size\":10,\"solidity\":0.2}},\"type\":\"barpolar\"}],\"pie\":[{\"automargin\":true,\"type\":\"pie\"}]},\"layout\":{\"autotypenumbers\":\"strict\",\"colorway\":[\"#636efa\",\"#EF553B\",\"#00cc96\",\"#ab63fa\",\"#FFA15A\",\"#19d3f3\",\"#FF6692\",\"#B6E880\",\"#FF97FF\",\"#FECB52\"],\"font\":{\"color\":\"#2a3f5f\"},\"hovermode\":\"closest\",\"hoverlabel\":{\"align\":\"left\"},\"paper_bgcolor\":\"white\",\"plot_bgcolor\":\"#E5ECF6\",\"polar\":{\"bgcolor\":\"#E5ECF6\",\"angularaxis\":{\"gridcolor\":\"white\",\"linecolor\":\"white\",\"ticks\":\"\"},\"radialaxis\":{\"gridcolor\":\"white\",\"linecolor\":\"white\",\"ticks\":\"\"}},\"ternary\":{\"bgcolor\":\"#E5ECF6\",\"aaxis\":{\"gridcolor\":\"white\",\"linecolor\":\"white\",\"ticks\":\"\"},\"baxis\":{\"gridcolor\":\"white\",\"linecolor\":\"white\",\"ticks\":\"\"},\"caxis\":{\"gridcolor\":\"white\",\"linecolor\":\"white\",\"ticks\":\"\"}},\"coloraxis\":{\"colorbar\":{\"outlinewidth\":0,\"ticks\":\"\"}},\"colorscale\":{\"sequential\":[[0.0,\"#0d0887\"],[0.1111111111111111,\"#46039f\"],[0.2222222222222222,\"#7201a8\"],[0.3333333333333333,\"#9c179e\"],[0.4444444444444444,\"#bd3786\"],[0.5555555555555556,\"#d8576b\"],[0.6666666666666666,\"#ed7953\"],[0.7777777777777778,\"#fb9f3a\"],[0.8888888888888888,\"#fdca26\"],[1.0,\"#f0f921\"]],\"sequentialminus\":[[0.0,\"#0d0887\"],[0.1111111111111111,\"#46039f\"],[0.2222222222222222,\"#7201a8\"],[0.3333333333333333,\"#9c179e\"],[0.4444444444444444,\"#bd3786\"],[0.5555555555555556,\"#d8576b\"],[0.6666666666666666,\"#ed7953\"],[0.7777777777777778,\"#fb9f3a\"],[0.8888888888888888,\"#fdca26\"],[1.0,\"#f0f921\"]],\"diverging\":[[0,\"#8e0152\"],[0.1,\"#c51b7d\"],[0.2,\"#de77ae\"],[0.3,\"#f1b6da\"],[0.4,\"#fde0ef\"],[0.5,\"#f7f7f7\"],[0.6,\"#e6f5d0\"],[0.7,\"#b8e186\"],[0.8,\"#7fbc41\"],[0.9,\"#4d9221\"],[1,\"#276419\"]]},\"xaxis\":{\"gridcolor\":\"white\",\"linecolor\":\"white\",\"ticks\":\"\",\"title\":{\"standoff\":15},\"zerolinecolor\":\"white\",\"automargin\":true,\"zerolinewidth\":2},\"yaxis\":{\"gridcolor\":\"white\",\"linecolor\":\"white\",\"ticks\":\"\",\"title\":{\"standoff\":15},\"zerolinecolor\":\"white\",\"automargin\":true,\"zerolinewidth\":2},\"scene\":{\"xaxis\":{\"backgroundcolor\":\"#E5ECF6\",\"gridcolor\":\"white\",\"linecolor\":\"white\",\"showbackground\":true,\"ticks\":\"\",\"zerolinecolor\":\"white\",\"gridwidth\":2},\"yaxis\":{\"backgroundcolor\":\"#E5ECF6\",\"gridcolor\":\"white\",\"linecolor\":\"white\",\"showbackground\":true,\"ticks\":\"\",\"zerolinecolor\":\"white\",\"gridwidth\":2},\"zaxis\":{\"backgroundcolor\":\"#E5ECF6\",\"gridcolor\":\"white\",\"linecolor\":\"white\",\"showbackground\":true,\"ticks\":\"\",\"zerolinecolor\":\"white\",\"gridwidth\":2}},\"shapedefaults\":{\"line\":{\"color\":\"#2a3f5f\"}},\"annotationdefaults\":{\"arrowcolor\":\"#2a3f5f\",\"arrowhead\":0,\"arrowwidth\":1},\"geo\":{\"bgcolor\":\"white\",\"landcolor\":\"#E5ECF6\",\"subunitcolor\":\"white\",\"showland\":true,\"showlakes\":true,\"lakecolor\":\"white\"},\"title\":{\"x\":0.05},\"mapbox\":{\"style\":\"light\"}}},\"legend\":{\"tracegroupgap\":0},\"title\":{\"text\":\"Treemap of Accident Cause\"}},                        {\"responsive\": true}                    ).then(function(){\n",
       "                            \n",
       "var gd = document.getElementById('21bc8b55-fb4d-4ce7-ac1c-3ad05080fd19');\n",
       "var x = new MutationObserver(function (mutations, observer) {{\n",
       "        var display = window.getComputedStyle(gd).display;\n",
       "        if (!display || display === 'none') {{\n",
       "            console.log([gd, 'removed!']);\n",
       "            Plotly.purge(gd);\n",
       "            observer.disconnect();\n",
       "        }}\n",
       "}});\n",
       "\n",
       "// Listen for the removal of the full notebook cells\n",
       "var notebookContainer = gd.closest('#notebook-container');\n",
       "if (notebookContainer) {{\n",
       "    x.observe(notebookContainer, {childList: true});\n",
       "}}\n",
       "\n",
       "// Listen for the clearing of the current output cell\n",
       "var outputEl = gd.closest('.output');\n",
       "if (outputEl) {{\n",
       "    x.observe(outputEl, {childList: true});\n",
       "}}\n",
       "\n",
       "                        })                };                });            </script>        </div>"
      ]
     },
     "metadata": {},
     "output_type": "display_data"
    }
   ],
   "source": [
    "#Tree Map\n",
    "fig=px.treemap(df,path=['Cause category','Cause Subcategory'], values='Count', title='Treemap of Accident Cause')\n",
    "fig.show()"
   ]
  },
  {
   "cell_type": "code",
   "execution_count": 138,
   "id": "40981967-df43-49ef-a949-90f792988ef9",
   "metadata": {},
   "outputs": [],
   "source": [
    "#Conclusion\n",
    "#1) Major Accident Hotspots\n",
    "#In the Million plus cities, some cities had much higher numbers of accident.\n",
    "#This Suggests that unbanization, population density, and traffic flow can be major factors behind road accident in metropolitian cities.\n",
    "\n",
    "\n",
    "#2) Top causes of accident\n",
    "#The most common cause categories are: Faulty vehicles, Poor road condition\n",
    "#A closer examination of Cause Subcategories reveals that \"Loss of vehicle control\" and \"Disobeying traffic singnals\" are extremely recurring.\n",
    "\n",
    "\n",
    "#3) Outcome of Accidents\n",
    "#Most incidents led to fatal or severe injuries, indicating inadequate road safety adherence and absence of emergency response systems.\n",
    "#The Outcome distribution also emphasizes the importance of first-responder training and faster medical access."
   ]
  },
  {
   "cell_type": "code",
   "execution_count": null,
   "id": "2ecaf116-a9e1-4dea-abf9-72bedd191f6d",
   "metadata": {},
   "outputs": [],
   "source": []
  }
 ],
 "metadata": {
  "kernelspec": {
   "display_name": "Python 3 (ipykernel)",
   "language": "python",
   "name": "python3"
  },
  "language_info": {
   "codemirror_mode": {
    "name": "ipython",
    "version": 3
   },
   "file_extension": ".py",
   "mimetype": "text/x-python",
   "name": "python",
   "nbconvert_exporter": "python",
   "pygments_lexer": "ipython3",
   "version": "3.12.7"
  }
 },
 "nbformat": 4,
 "nbformat_minor": 5
}
